{
 "cells": [
  {
   "cell_type": "code",
   "execution_count": 879,
   "id": "d3b785d5-017d-4b5a-aa2e-c5d71115fe72",
   "metadata": {},
   "outputs": [],
   "source": [
    "import pandas as pd\n",
    "import numpy as np\n",
    "import matplotlib.pyplot as plt\n",
    "import seaborn as sns"
   ]
  },
  {
   "cell_type": "code",
   "execution_count": 880,
   "id": "f0302795-b546-41df-aa16-749291985eaa",
   "metadata": {},
   "outputs": [],
   "source": [
    "df = pd.read_csv(\"census1.csv\")"
   ]
  },
  {
   "cell_type": "code",
   "execution_count": 881,
   "id": "71beb467-4704-498b-a1f2-8d38ce204ae5",
   "metadata": {},
   "outputs": [
    {
     "name": "stdout",
     "output_type": "stream",
     "text": [
      "<class 'pandas.core.frame.DataFrame'>\n",
      "RangeIndex: 8002 entries, 0 to 8001\n",
      "Data columns (total 12 columns):\n",
      " #   Column                         Non-Null Count  Dtype  \n",
      "---  ------                         --------------  -----  \n",
      " 0   Unnamed: 0                     8002 non-null   int64  \n",
      " 1   House Number                   7962 non-null   float64\n",
      " 2   Street                         7962 non-null   object \n",
      " 3   First Name                     7962 non-null   object \n",
      " 4   Surname                        7962 non-null   object \n",
      " 5   Age                            7962 non-null   object \n",
      " 6   Relationship to Head of House  7376 non-null   object \n",
      " 7   Marital Status                 6169 non-null   object \n",
      " 8   Gender                         7962 non-null   object \n",
      " 9   Occupation                     7962 non-null   object \n",
      " 10  Infirmity                      60 non-null     object \n",
      " 11  Religion                       3510 non-null   object \n",
      "dtypes: float64(1), int64(1), object(10)\n",
      "memory usage: 750.3+ KB\n"
     ]
    }
   ],
   "source": [
    "#Summary of Data\n",
    "df.info()"
   ]
  },
  {
   "cell_type": "code",
   "execution_count": 882,
   "id": "af745afd-65eb-4739-8bb1-197387e375ef",
   "metadata": {},
   "outputs": [
    {
     "data": {
      "text/html": [
       "<div>\n",
       "<style scoped>\n",
       "    .dataframe tbody tr th:only-of-type {\n",
       "        vertical-align: middle;\n",
       "    }\n",
       "\n",
       "    .dataframe tbody tr th {\n",
       "        vertical-align: top;\n",
       "    }\n",
       "\n",
       "    .dataframe thead th {\n",
       "        text-align: right;\n",
       "    }\n",
       "</style>\n",
       "<table border=\"1\" class=\"dataframe\">\n",
       "  <thead>\n",
       "    <tr style=\"text-align: right;\">\n",
       "      <th></th>\n",
       "      <th>Unnamed: 0</th>\n",
       "      <th>House Number</th>\n",
       "      <th>Street</th>\n",
       "      <th>First Name</th>\n",
       "      <th>Surname</th>\n",
       "      <th>Age</th>\n",
       "      <th>Relationship to Head of House</th>\n",
       "      <th>Marital Status</th>\n",
       "      <th>Gender</th>\n",
       "      <th>Occupation</th>\n",
       "      <th>Infirmity</th>\n",
       "      <th>Religion</th>\n",
       "    </tr>\n",
       "  </thead>\n",
       "  <tbody>\n",
       "    <tr>\n",
       "      <th>0</th>\n",
       "      <td>0</td>\n",
       "      <td>1.0</td>\n",
       "      <td>Johnson Glens</td>\n",
       "      <td>Kyle</td>\n",
       "      <td>Smith</td>\n",
       "      <td>20</td>\n",
       "      <td>Head</td>\n",
       "      <td>Single</td>\n",
       "      <td>Male</td>\n",
       "      <td>University Student</td>\n",
       "      <td>NaN</td>\n",
       "      <td>Christian</td>\n",
       "    </tr>\n",
       "    <tr>\n",
       "      <th>1</th>\n",
       "      <td>1</td>\n",
       "      <td>2.0</td>\n",
       "      <td>Johnson Glens</td>\n",
       "      <td>Gregory</td>\n",
       "      <td>Davies</td>\n",
       "      <td>26</td>\n",
       "      <td>Head</td>\n",
       "      <td>Single</td>\n",
       "      <td>Male</td>\n",
       "      <td>Theme park manager</td>\n",
       "      <td>NaN</td>\n",
       "      <td>NaN</td>\n",
       "    </tr>\n",
       "    <tr>\n",
       "      <th>2</th>\n",
       "      <td>2</td>\n",
       "      <td>3.0</td>\n",
       "      <td>Johnson Glens</td>\n",
       "      <td>Ian</td>\n",
       "      <td>Hawkins</td>\n",
       "      <td>66</td>\n",
       "      <td>Head</td>\n",
       "      <td>Widowed</td>\n",
       "      <td>Male</td>\n",
       "      <td>Osteopath</td>\n",
       "      <td>NaN</td>\n",
       "      <td>NaN</td>\n",
       "    </tr>\n",
       "    <tr>\n",
       "      <th>3</th>\n",
       "      <td>3</td>\n",
       "      <td>4.0</td>\n",
       "      <td>Johnson Glens</td>\n",
       "      <td>Kevin</td>\n",
       "      <td>Barton</td>\n",
       "      <td>21</td>\n",
       "      <td>Head</td>\n",
       "      <td>Single</td>\n",
       "      <td>Male</td>\n",
       "      <td>University Student</td>\n",
       "      <td>NaN</td>\n",
       "      <td>NaN</td>\n",
       "    </tr>\n",
       "    <tr>\n",
       "      <th>4</th>\n",
       "      <td>4</td>\n",
       "      <td>4.0</td>\n",
       "      <td>NaN</td>\n",
       "      <td>Sophie</td>\n",
       "      <td>Parsons</td>\n",
       "      <td>33</td>\n",
       "      <td>NaN</td>\n",
       "      <td>Single</td>\n",
       "      <td>Female</td>\n",
       "      <td>Adult nurse</td>\n",
       "      <td>NaN</td>\n",
       "      <td>NaN</td>\n",
       "    </tr>\n",
       "  </tbody>\n",
       "</table>\n",
       "</div>"
      ],
      "text/plain": [
       "   Unnamed: 0  House Number         Street First Name  Surname Age  \\\n",
       "0           0           1.0  Johnson Glens       Kyle    Smith  20   \n",
       "1           1           2.0  Johnson Glens    Gregory   Davies  26   \n",
       "2           2           3.0  Johnson Glens        Ian  Hawkins  66   \n",
       "3           3           4.0  Johnson Glens      Kevin   Barton  21   \n",
       "4           4           4.0            NaN     Sophie  Parsons  33   \n",
       "\n",
       "  Relationship to Head of House Marital Status  Gender          Occupation  \\\n",
       "0                          Head         Single    Male  University Student   \n",
       "1                          Head         Single    Male  Theme park manager   \n",
       "2                          Head        Widowed    Male           Osteopath   \n",
       "3                          Head         Single    Male  University Student   \n",
       "4                           NaN         Single  Female         Adult nurse   \n",
       "\n",
       "  Infirmity   Religion  \n",
       "0       NaN  Christian  \n",
       "1       NaN        NaN  \n",
       "2       NaN        NaN  \n",
       "3       NaN        NaN  \n",
       "4       NaN        NaN  "
      ]
     },
     "execution_count": 882,
     "metadata": {},
     "output_type": "execute_result"
    }
   ],
   "source": [
    "df.head()"
   ]
  },
  {
   "cell_type": "code",
   "execution_count": 883,
   "id": "41b272da-0124-4540-83a8-d3e559cff7b3",
   "metadata": {},
   "outputs": [
    {
     "data": {
      "text/plain": [
       "Unnamed: 0                          0\n",
       "House Number                       40\n",
       "Street                             40\n",
       "First Name                         40\n",
       "Surname                            40\n",
       "Age                                40\n",
       "Relationship to Head of House     626\n",
       "Marital Status                   1833\n",
       "Gender                             40\n",
       "Occupation                         40\n",
       "Infirmity                        7942\n",
       "Religion                         4492\n",
       "dtype: int64"
      ]
     },
     "execution_count": 883,
     "metadata": {},
     "output_type": "execute_result"
    }
   ],
   "source": [
    "# Missing Values in each Column\n",
    "df.isnull().sum()"
   ]
  },
  {
   "cell_type": "markdown",
   "id": "d3c2e9fb-2b70-425e-9053-bcf121dd3c60",
   "metadata": {},
   "source": [
    "### House Number"
   ]
  },
  {
   "cell_type": "code",
   "execution_count": 884,
   "id": "e30fea6d-3703-4c9a-8219-1440263e480f",
   "metadata": {},
   "outputs": [
    {
     "data": {
      "text/plain": [
       "array([  1.,   2.,   3.,   4.,   5.,   6.,   7.,   8.,   9.,  10.,  11.,\n",
       "        12.,  13.,  14.,  15.,  16.,  17.,  18.,  19.,  20.,  21.,  22.,\n",
       "        23.,  24.,  nan,  26.,  27.,  28.,  29.,  30.,  31.,  32.,  33.,\n",
       "        34.,  35.,  36.,  37.,  38.,  39.,  40.,  41.,  42.,  43.,  44.,\n",
       "        45.,  46.,  47.,  48.,  49.,  50.,  25.,  51.,  52.,  53.,  54.,\n",
       "        55.,  56.,  57.,  58.,  59.,  60.,  61.,  62.,  63.,  64.,  65.,\n",
       "        66.,  67.,  68.,  69.,  70.,  71.,  72.,  73.,  74.,  75.,  76.,\n",
       "        77.,  78.,  79.,  80.,  81.,  82.,  83.,  84.,  85.,  86.,  87.,\n",
       "        88.,  89.,  90.,  91.,  92.,  93.,  94.,  95.,  96.,  97.,  98.,\n",
       "        99., 100., 101., 102., 103., 104., 105., 106., 107., 108., 109.,\n",
       "       110., 111., 112., 113., 114., 115., 116., 117., 118., 119., 120.,\n",
       "       121., 122., 123., 124., 125., 126., 127., 128., 129., 130., 131.,\n",
       "       132., 133., 134., 135., 136., 137., 138., 139., 140., 141., 142.,\n",
       "       143., 144., 145., 146., 147., 148., 149., 150., 151., 152., 153.,\n",
       "       154., 155., 156., 157., 158., 159., 160., 161., 162., 163., 164.,\n",
       "       165., 166., 167., 168., 169., 170., 171., 172., 173., 174., 175.,\n",
       "       176., 177., 178., 179., 180., 181., 182., 183., 184., 185., 186.,\n",
       "       187., 188., 189., 190., 191., 192., 193., 194., 195., 196., 197.,\n",
       "       198., 199., 200., 201., 202., 203., 204., 205., 206., 207., 208.,\n",
       "       209., 210., 211., 212., 213., 214., 215., 216., 217., 219., 220.,\n",
       "       221., 222., 223., 224., 225., 226., 227., 228., 229., 230., 231.])"
      ]
     },
     "execution_count": 884,
     "metadata": {},
     "output_type": "execute_result"
    }
   ],
   "source": [
    "df[\"House Number\"].unique()"
   ]
  },
  {
   "cell_type": "code",
   "execution_count": 885,
   "id": "d1c20078-07fd-4b5f-8298-18ccfb4ef101",
   "metadata": {},
   "outputs": [
    {
     "name": "stdout",
     "output_type": "stream",
     "text": [
      "NaN Values in House Number:  40\n"
     ]
    }
   ],
   "source": [
    "print(\"NaN Values in House Number: \",df[\"House Number\"].isnull().sum())"
   ]
  },
  {
   "cell_type": "code",
   "execution_count": 886,
   "id": "8d41bd7b-9bfd-4f21-aa2d-dea188d81969",
   "metadata": {},
   "outputs": [
    {
     "data": {
      "text/plain": [
       "42          Chloe\n",
       "255        Dennis\n",
       "256         Paige\n",
       "820        Hayley\n",
       "1406        Bruce\n",
       "1875        Sally\n",
       "1879        Bryan\n",
       "1929         Luke\n",
       "1959        Abbie\n",
       "2091         Neil\n",
       "2182       Donald\n",
       "2224      Bradley\n",
       "2227      Russell\n",
       "2664    Alexander\n",
       "2958        Bruce\n",
       "3179     Patricia\n",
       "3202        Jason\n",
       "3676       Judith\n",
       "3804     Patricia\n",
       "3873      Terence\n",
       "3896      Annette\n",
       "3997      Stanley\n",
       "4071         Luke\n",
       "4486       Hilary\n",
       "4675       Martyn\n",
       "5152        Brian\n",
       "5461    Alexandra\n",
       "5495      Deborah\n",
       "5784       George\n",
       "5996        Janet\n",
       "6042        Colin\n",
       "6178         Emma\n",
       "6225      Anthony\n",
       "6295    Elizabeth\n",
       "6366    Christian\n",
       "6607          Ann\n",
       "6788       Joanne\n",
       "7176       Dennis\n",
       "7352       Ronald\n",
       "7996       Amelia\n",
       "Name: First Name, dtype: object"
      ]
     },
     "execution_count": 886,
     "metadata": {},
     "output_type": "execute_result"
    }
   ],
   "source": [
    "df.loc[df['House Number'].isnull(), 'First Name']"
   ]
  },
  {
   "cell_type": "code",
   "execution_count": 887,
   "id": "36ef4305-604d-44f8-aeb7-af3803f984b9",
   "metadata": {},
   "outputs": [],
   "source": [
    "# Define the function to fill House Number\n",
    "def fill_house_number(row, lookup_df, index):\n",
    "    if pd.isna(row['House Number']):\n",
    "        # Find rows in lookup_df with the same Street and Surname and a non-missing House Number\n",
    "        match = lookup_df[(lookup_df['Street'] == row['Street']) & \n",
    "                          (lookup_df['Surname'] == row['Surname']) & \n",
    "                          ~pd.isna(lookup_df['House Number'])]\n",
    "        if not match.empty:  # If a match is found\n",
    "            return match['House Number'].iloc[0]  # Return the first matched House Number\n",
    "        else:  # If no match is found, use the next House Number of the previous row\n",
    "            if index > 0:  # Ensure it's not the first row\n",
    "                previous_house_number = lookup_df['House Number'].shift(1).iloc[index]+1\n",
    "                return previous_house_number\n",
    "    return row['House Number']  # If House Number is not missing, return it as is\n",
    "\n",
    "# Apply the function to fill missing House Numbers\n",
    "df['House Number'] = df.apply(lambda row: fill_house_number(row, df, row.name), axis=1)"
   ]
  },
  {
   "cell_type": "code",
   "execution_count": 888,
   "id": "af16d3fe-280e-41f1-896b-820ea9cd2c4d",
   "metadata": {},
   "outputs": [
    {
     "name": "stdout",
     "output_type": "stream",
     "text": [
      "NaN Values in House Number:  0\n"
     ]
    }
   ],
   "source": [
    "print(\"NaN Values in House Number: \",df[\"House Number\"].isnull().sum())"
   ]
  },
  {
   "cell_type": "markdown",
   "id": "2e8f4b4c-a9af-48cc-aebf-863385f7bbac",
   "metadata": {},
   "source": [
    "### Street"
   ]
  },
  {
   "cell_type": "code",
   "execution_count": 889,
   "id": "979152fa-59ae-4975-b4ce-3fe5558d3918",
   "metadata": {},
   "outputs": [
    {
     "data": {
      "text/plain": [
       "array(['Johnson Glens', nan, 'Albert Avenue', 'Hodgson Vista',\n",
       "       'Wilkinson Place', 'Horseshoe Lane', 'Guardian Lane',\n",
       "       'Russell Street', 'Anvil Avenue', 'Music Drive', 'Lancelot Avenue',\n",
       "       'Lomond Road', 'Wakefieldtap Road', 'Myers Road',\n",
       "       'Minsterhatch Street', 'St.Johnbelt Avenue', 'January Drive',\n",
       "       'Ebor Lane', 'Laurel Street', 'Howard Drive', 'King Knolls',\n",
       "       'Thomas Brooks', 'Wallace Mission', 'Thomas Extensions',\n",
       "       'Brookes Avenue', 'Read Lane', 'Eastertooth Road',\n",
       "       'Whittaker Avenue', 'Institution Place', 'Guardian Via',\n",
       "       'Ash Squares', 'Powell Street', 'Sagittarius Road',\n",
       "       'Liverpool Orchard', 'Brady Port', 'Exetercurl Lane',\n",
       "       'Windsor Road', 'Castor Lane', 'South Crossing', 'Dockers Drive',\n",
       "       'Manchester Mews', 'Lightning Street', 'Martin Lake', 'Henge Road',\n",
       "       'Aries Drive', 'Steel Ramp', 'Dragons Highway', 'Mercia Trace',\n",
       "       'Gough Street', 'Bolton Hills', 'Trawler Knoll', 'Patel Drive',\n",
       "       'Lancelot Motorway', 'Charity Ferry', \"O'Brien Drive\",\n",
       "       'Panther Terrace', 'Davies Road', 'Cook Street',\n",
       "       'Southampton Terrace', 'Mistletoe Hollow', 'Gregory Estate',\n",
       "       'Ring Drive', 'Yates Avenue', 'Lion Mount', 'Grant Road',\n",
       "       'Wright Ridges', 'Mason Motorway', 'Douglas Views',\n",
       "       'Gwynedddike Avenue', 'Badger Street', 'Cottingham Drive',\n",
       "       'Lobstermix Street', 'Williams Rue', 'Canary Avenue',\n",
       "       'Jones Trail', 'Parkinson Mountain', 'London Street',\n",
       "       'Boyle Wells', 'Sims Crest', 'Foster Avenue',\n",
       "       'Scepterbranch Avenue', 'Robinson Spring', 'Coniferpath Road',\n",
       "       'Elephant Drive', 'Wilkinson Views', 'Beaver Pine',\n",
       "       'Metropolispath Avenue', 'Brighton Avenue', 'St.Matthew Forges',\n",
       "       'Bastille Avenue', 'Dublin Avenue', 'Canary Manor', 'Bishop House',\n",
       "       'Bradley Granary', 'Scepter Longhouse', 'Albion Cabin',\n",
       "       'Sandy Obervatory', 'Beech Chalet', 'Windermere Warehouse',\n",
       "       'Knight Abbey', 'Fox Tower', 'Tamarisk Citadel', 'Morton Barracks',\n",
       "       'Ali Castle', 'St.Matthew Delve', 'Sydney Hall'], dtype=object)"
      ]
     },
     "execution_count": 889,
     "metadata": {},
     "output_type": "execute_result"
    }
   ],
   "source": [
    "df[\"Street\"].unique()"
   ]
  },
  {
   "cell_type": "code",
   "execution_count": 890,
   "id": "fa44996e-7458-4e0a-bbe0-617d6c8f0475",
   "metadata": {},
   "outputs": [],
   "source": [
    "# Define the function to fill Street\n",
    "def fill_Street(row, lookup_df, index):\n",
    "    if pd.isna(row['Street']):\n",
    "        # Find rows in lookup_df with the same House Number and Surname and a non-missing House Number\n",
    "        match = lookup_df[(lookup_df['House Number'] == row['House Number']) & \n",
    "                          (lookup_df['Surname'] == row['Surname']) & \n",
    "                          ~pd.isna(lookup_df['Street'])]\n",
    "        if not match.empty:  # If a match is found\n",
    "            return match['Street'].iloc[0]  # Return the first matched Street\n",
    "        else:  # If no match is found, use the Street Name of the previous row\n",
    "            if index > 0:  # Ensure it's not the first row\n",
    "                previous_Street = lookup_df['Street'].shift(1).iloc[index]\n",
    "                return previous_Street\n",
    "    return row['Street']  # If Street is not missing, return it as is\n",
    "\n",
    "# Apply the function to fill missing Street\n",
    "df['Street'] = df.apply(lambda row: fill_Street(row, df, row.name), axis=1)"
   ]
  },
  {
   "cell_type": "code",
   "execution_count": 891,
   "id": "2582aa3e-bc48-4d39-adf8-1512ce001690",
   "metadata": {},
   "outputs": [
    {
     "name": "stdout",
     "output_type": "stream",
     "text": [
      "NaN Values in Street:  0\n"
     ]
    }
   ],
   "source": [
    "print(\"NaN Values in Street: \",df[\"Street\"].isnull().sum())"
   ]
  },
  {
   "cell_type": "markdown",
   "id": "ddb04980-dd53-49da-a23c-be3ff3fe5e34",
   "metadata": {},
   "source": [
    "### First Name"
   ]
  },
  {
   "cell_type": "code",
   "execution_count": 902,
   "id": "8ea395f6-b919-40ac-bacb-7877e5b96058",
   "metadata": {},
   "outputs": [
    {
     "name": "stdout",
     "output_type": "stream",
     "text": [
      "['Kyle', 'Gregory', 'Ian', 'Kevin', 'Sophie', 'Pauline', 'Iain', 'Jenna', 'Carly', 'Neil', 'Tina', 'Martin', 'Katherine', 'Terence', 'Leigh', 'Gavin', 'Jill', 'Brett', 'Denise', 'Jane', 'Jennifer', 'Trevor', 'Matthew', 'Olivia', 'Paul', 'Donald', 'Lisa', 'John', 'Marie', 'Marc', 'Jasmine', 'Hazel', 'Mary', 'Katy', 'Victoria', 'Abdul', 'Craig', 'Karen', 'Angela', 'George', 'Heather', 'Chloe', 'Joanna', 'Joseph', 'Elliot', 'Vincent', 'Diana', 'William', 'Jodie', 'Shannon', 'Joshua', 'Julian', 'Christine', 'Harriet', 'Rosie', 'Adrian', 'Luke', 'Reece', 'Kieran', 'Gail', 'Dawn', 'Hayley', 'Barry', 'Dale', 'Howard', 'Bethan', 'Danielle', 'Deborah', 'Rosemary', 'Robin', 'Ruth', 'Graeme', 'Jacob', 'Jeffrey', 'Leslie', 'Zoe', 'Hollie', 'Stewart', 'Janet', 'Garry', 'Eric', 'Kathleen', 'Sharon', 'Kenneth', 'Roger', 'Stacey', 'Eleanor', 'Sally', 'Robert', 'Debra', 'Claire', 'Tracey', 'Terry', 'Kelly', 'Grace', 'Jonathan', 'Mohammed', 'Cheryl', 'Malcolm', 'Thomas', 'Gillian', 'Harry', 'Lindsey', 'Joel', nan, 'Ben', 'Nicole', 'Nicola', 'Patricia', 'Raymond', 'Jayne', 'Gareth', 'Beth', 'Donna', 'Josephine', 'Stephen', 'Dorothy', 'Maria', 'Phillip', 'Liam', 'Rhys', 'Frederick', 'Leanne', 'Sam', 'David', 'Leonard', 'Mitchell', 'Alexander', 'Owen', 'Catherine', 'Lauren', 'Anthony', 'Elaine', 'Ricky', 'Stephanie', 'Guy', 'Wayne', 'Sandra', 'Amy', 'Teresa', 'Carol', 'Danny', 'Margaret', 'Melissa', 'Katie', 'Shirley', 'Mark', 'Max', 'Molly', 'Abbie', 'Kimberley', 'Antony', 'Philip', 'Conor', 'Connor', 'Alice', 'Gemma', 'Lucy', 'Shaun', 'Leah', 'Adam', 'Peter', 'Joan', 'Frank', 'Ronald', 'Albert', 'Paula', 'Charles', 'Fiona', 'Brenda', 'Damien', 'Sylvia', 'Martyn', 'Ellie', 'Diane', 'Nathan', 'Kathryn', 'Rachel', 'Susan', 'Joe', 'Judith', 'Eileen', 'Alex', 'Sheila', 'Carolyn', 'Lewis', 'Mathew', 'Anna', 'Anne', 'Justin', 'Oliver', 'Dean', 'Frances', 'Andrea', 'Dennis', 'Paige', 'Jade', 'Natasha', 'Lawrence', 'Samantha', 'Marion', 'Scott', 'Jacqueline', 'Simon', 'Jean', 'Mohammad', 'Sarah', 'Darren', 'Yvonne', 'Ryan', 'Caroline', 'Clive', 'Amanda', 'Timothy', 'Jordan', 'Naomi', 'Colin', 'Laura', 'Arthur', 'Sian', 'Gordon', 'Gary', 'Tracy', 'Charlene', 'Melanie', 'Janice', 'Bryan', 'Billy', 'Francis', 'Marian', 'Lynda', 'Glenn', 'Christian', 'Georgina', 'Jessica', 'Elliott', 'Sean', 'Derek', 'Mohamed', 'Emma', 'Sara', 'James', 'Kayleigh', 'Carole', 'Rachael', 'Clifford', 'Joanne', 'Steven', 'Shane', 'Russell', 'Vanessa', 'Benjamin', 'Lee', 'Julia', 'Damian', 'Kirsty', 'Irene', 'Stuart', 'Charlotte', 'Hugh', 'June', 'Daniel', 'Geraldine', 'Toby', 'Christopher', 'Jay', 'Lorraine', 'Brian', 'Chelsea', 'Tony', 'Victor', 'Nicholas', 'Ann', 'Wendy', 'Dominic', 'Alison', 'Rita', 'Marilyn', 'Natalie', 'Gerald', 'Clare', 'Emily', 'Louise', 'Amelia', 'Leon', 'Karl', 'Allan', 'Edward', 'Duncan', 'Michelle', 'Valerie', 'Gerard', 'Geoffrey', 'Norman', 'Josh', 'Stanley', 'Dylan', 'Bruce', 'Michael', 'Ashley', 'Charlie', 'Holly', 'Kim', 'Jamie', 'Jake', 'Bethany', 'Aaron', 'Hilary', 'Lesley', 'Joyce', 'Lynn', 'Pamela', 'Jemma', 'Graham', 'Ross', 'Mandy', 'Jack', 'Abigail', 'Roy', 'Francesca', 'Louis', 'Kerry', 'Georgia', 'Jason', 'Douglas', 'Kate', 'Henry', 'Suzanne', 'Nigel', 'Maureen', 'Elizabeth', 'Bernard', 'Denis', 'Beverley', 'Callum', 'Tom', 'Julie', 'Ashleigh', 'Barbara', 'Cameron', 'Maurice', 'Rebecca', 'Keith', 'Carl', 'Jeremy', 'Megan', 'Lynne', 'Amber', 'Andrew', 'Hannah', 'Alan', 'Linda', 'Patrick', 'Lydia', 'Richard', 'Glen', 'Brandon', 'Aimee', 'Alexandra', 'Helen', 'Marcus', 'Samuel', 'Bradley', 'Declan', 'Annette']\n"
     ]
    }
   ],
   "source": [
    "presentable = df[\"First Name\"].unique()\n",
    "a = [i for i in presentable]\n",
    "print(a)"
   ]
  },
  {
   "cell_type": "code",
   "execution_count": 805,
   "id": "ebac3028-6547-4817-bc03-c98fc7fa9cb7",
   "metadata": {},
   "outputs": [],
   "source": [
    "df['First Name'] = df['First Name'].fillna(df[\"First Name\"].mode()[0])"
   ]
  },
  {
   "cell_type": "code",
   "execution_count": 806,
   "id": "fe42e3c2-1f6b-4096-84ab-ab65c4c2915f",
   "metadata": {},
   "outputs": [
    {
     "name": "stdout",
     "output_type": "stream",
     "text": [
      "NaN Values in First Name:  0\n"
     ]
    }
   ],
   "source": [
    "print(\"NaN Values in First Name: \",df[\"First Name\"].isna().sum())"
   ]
  },
  {
   "cell_type": "markdown",
   "id": "d57e146a-43e1-49e0-8056-8a6d8625cc9d",
   "metadata": {},
   "source": [
    "### Surname"
   ]
  },
  {
   "cell_type": "code",
   "execution_count": 908,
   "id": "36e9bcde-9b47-4593-914b-d4172e56dec6",
   "metadata": {},
   "outputs": [
    {
     "data": {
      "text/plain": [
       "45        Elliot\n",
       "98        Claire\n",
       "219     Kathleen\n",
       "220        Frank\n",
       "232        Susan\n",
       "250       Oliver\n",
       "702      Francis\n",
       "747       Donald\n",
       "965        Julie\n",
       "1405       Brian\n",
       "1426       Roger\n",
       "1453     Elliott\n",
       "1576        Iain\n",
       "2234      Marian\n",
       "2249     Rebecca\n",
       "2502     Russell\n",
       "2510       Janet\n",
       "2635      Edward\n",
       "2845      Yvonne\n",
       "2906      Graeme\n",
       "3060         Lee\n",
       "3096       Emily\n",
       "3870       Garry\n",
       "3932     Vanessa\n",
       "4160       Paula\n",
       "4363      Stuart\n",
       "4484       Harry\n",
       "4735         Guy\n",
       "4822        Leah\n",
       "4913       Roger\n",
       "5438        Owen\n",
       "5691      Joanne\n",
       "6104     Frances\n",
       "6944        Kate\n",
       "7026      Sylvia\n",
       "7415      Teresa\n",
       "7458        Ryan\n",
       "7477        Leah\n",
       "7725        Lisa\n",
       "7852    Clifford\n",
       "Name: First Name, dtype: object"
      ]
     },
     "execution_count": 908,
     "metadata": {},
     "output_type": "execute_result"
    }
   ],
   "source": [
    "df.loc[df['Surname'].isnull(), 'First Name']"
   ]
  },
  {
   "cell_type": "code",
   "execution_count": 909,
   "id": "731eed59-a38a-4289-9b8b-7902024b27a1",
   "metadata": {},
   "outputs": [
    {
     "data": {
      "text/plain": [
       "array(['Smith', 'Davies', 'Hawkins', 'Barton', 'Parsons', 'Marsden',\n",
       "       'Hutchinson', 'Cox', 'Barrett', 'Lees', 'Davis-Lees', 'Sanderson',\n",
       "       'Giles-Sanderson', 'Leach', 'Moore', 'Nicholson', 'Jordan',\n",
       "       'Lawrence', 'Gray', 'Poole', 'Frost', 'Baker', 'Thomas',\n",
       "       'Campbell', 'Henry', 'Hughes', 'Booth', 'Wright', nan, 'Roberts',\n",
       "       'Harris', 'Kent', 'Bennett', 'Goodwin', 'Sims', 'Armstrong',\n",
       "       'Austin', 'Adams', 'Jones', 'Scott', 'Berry', 'Kay', 'Edwards',\n",
       "       'Hardy', 'Kennedy', 'Bishop', 'Chandler', 'Green', 'Joyce',\n",
       "       'McCarthy', 'Ashton', 'Carr', 'Richardson', 'Russell', 'Collins',\n",
       "       'Richards', 'Rogers', 'Rogers-Stokes', 'Gill', 'Whittaker',\n",
       "       'Turner', 'Holloway', 'McDonald', 'Stevenson', 'Duncan', 'Butler',\n",
       "       'Singh', 'Hayward', 'Buckley', 'Taylor-Gregory', 'Wilkinson',\n",
       "       'Payne', 'Fletcher', 'Wood', 'Andrews', 'Davis', 'Powell',\n",
       "       'Spencer', 'Lewis', 'Webb', 'Potter', 'Williams', 'Middleton',\n",
       "       'Nash', 'Bull', 'Akhtar', 'Ball', 'Clarke', 'Griffiths', 'Bowen',\n",
       "       'Dyer', 'Brown', 'Evans', 'Grant', 'Goddard', 'Carroll', 'Allen',\n",
       "       'Brookes', 'Thornton', 'Griffin', 'Holland', 'Wall', 'Page',\n",
       "       'Martin', 'Johnson', 'Watkins', 'French', 'Naylor', 'Preston',\n",
       "       'Quinn', 'Norman', 'Bolton', 'Gregory', 'Wilson', 'Hudson',\n",
       "       'Simpson-Rowe', 'Metcalfe', 'Haynes', 'Kirby', 'Holt', 'Lord',\n",
       "       'Begum', 'Donnelly-Begum', 'White', 'Rice', 'Glover', 'Gibson',\n",
       "       'Carter', 'Woodward', 'Cook', 'Taylor', 'Mills', 'Gibbs', 'North',\n",
       "       'Glover-Davies', 'Sinclair', 'Knight', 'Vaughan', 'Patel', 'Riley',\n",
       "       'Alexander', 'Palmer', 'Young', 'Daniels', 'Ali', 'Newton',\n",
       "       'Morley', 'Wong', 'Dunn', 'Hodgson', 'Briggs', 'Ward', 'Walsh',\n",
       "       'Swift', 'Gardner', 'Davison', 'Hurst', 'Butcher', 'Gallagher',\n",
       "       'Warner', 'Fisher', 'Fitzgerald', \"O'Neill\", 'Walker', 'Parry',\n",
       "       'West', 'James', 'Robertson', 'Gilbert-Evans', 'Hale',\n",
       "       'Robertson-Davis', 'Simpson', 'Holden', 'Atkins', 'Talbot-Atkins',\n",
       "       'Ellis', 'Khan', 'Law-Smith', 'Fuller', 'Bailey', 'Morgan',\n",
       "       'Shepherd', 'Atkinson', 'Dean', 'Burton', 'Barker', 'Cooper',\n",
       "       'Francis', 'Robinson', 'Barlow', 'Brooks', 'Armstrong-Brooks',\n",
       "       'Miller', 'Cole', 'Smart', 'Franklin', 'Lambert', 'Ferguson',\n",
       "       'Chapman', 'Dale', 'Skinner', 'Randall', 'Hyde', 'Watson',\n",
       "       'Townsend', 'Sheppard', 'Parkin', 'Fry', 'Andrews-Griffiths',\n",
       "       'Bird', 'Parker', 'Long', 'Heath', 'Curtis', 'Wheeler', 'Boyle',\n",
       "       'Thompson', 'Connolly', 'Hancock', 'Saunders', 'Owens', 'Clements',\n",
       "       'Riley-Thorpe', 'Humphreys-Riley-Thorpe', 'King', 'Clayton',\n",
       "       'Ahmed', 'Morris', 'Hayes', 'Howarth', 'Reynolds', ' ', 'Lloyd',\n",
       "       'Watson-Hodgson', 'Newman', 'Gordon', 'Roberts-Edwards', 'Walton',\n",
       "       'Hopkins', 'Dennis', 'Jackson', 'Harvey', 'Freeman', 'Fleming',\n",
       "       'Dickinson', 'Lee', 'Brennan', 'Thompson-Brennan', 'Rhodes',\n",
       "       'Rose', 'Jarvis', 'Holmes', 'Gray-Stevenson', 'Leonard',\n",
       "       'Farmer-Leonard', 'Cole-Dunn', 'Power-Brookes', 'Manning',\n",
       "       'Harrison', 'Willis', 'Howard', 'Bell', 'Potts', 'Whitehouse',\n",
       "       'Wilkins', 'John', 'Hall', 'May', 'Bruce', 'Norton', 'Sharpe',\n",
       "       'Nicholls', 'Chambers', 'Marshall', 'Morrison', 'Macdonald',\n",
       "       'Ryan', 'Bentley', 'Archer', 'Cross', 'Mann', 'Dixon', 'Ford',\n",
       "       'Coles', 'Benson-Bennett', 'Murray', 'Hanson', 'Perry', 'Hunt',\n",
       "       'Williams-Lloyd', 'Bond', 'Higgins', 'Pope', 'Kerr', 'Tomlinson',\n",
       "       'Flynn', 'Elliott', 'George', 'Woodward-George', 'Jenkins',\n",
       "       'Hargreaves', 'Oliver', 'Shah', 'Davies-Wright', 'Warren',\n",
       "       'Hartley', 'Hussain', 'Franklin-Woodward', 'Byrne', 'Pearson',\n",
       "       'Collins-Taylor', 'Morton', 'Chan-Young', 'Phillips', 'Wallace',\n",
       "       'Dobson', 'Greenwood', 'Read', 'Stokes', 'McLean', 'Stephenson',\n",
       "       'Norris', 'Webster', 'Walters', 'Hilton', 'Bradley', 'Charlton',\n",
       "       'Woods', 'Hunter', 'Blake', 'Foster', 'Hart', 'Black',\n",
       "       'Davidson-Green', 'Dawson', 'Bevan-Cole', 'Gardiner', \"O'Brien\",\n",
       "       'Hill', 'Welch', 'Lawson', 'Wade', 'Shaw', 'Mason-Smith', 'Hope',\n",
       "       'Arnold', 'Morris-Arnold', 'Lamb', 'Jennings', 'Humphreys', 'Rees',\n",
       "       'Miles', 'Miles-White', 'Cooke', 'Gibbons', 'Hamilton', 'Moss',\n",
       "       'Morris-Stevenson', 'Sullivan', 'Lane', 'Farmer', 'Davey',\n",
       "       'Conway', 'Mason', 'Anderson', 'Kay-Thomas', 'Pritchard', 'Price',\n",
       "       'Allan', 'Bates', 'Owen', 'Douglas', 'Banks', 'Ashton-Bruce',\n",
       "       'Osborne', 'Webster-Holloway', 'Davidson', 'Pratt', \"O'Connor\",\n",
       "       'Cunningham', 'Moran', 'Stewart', 'Stevens', 'Stone', 'Tucker',\n",
       "       'Bevan', 'Day', 'Kelly', 'Howells', 'Harding', 'Fox', 'Sutton',\n",
       "       'Giles', 'Waters', 'Knowles', 'Donnelly', 'Clark', 'Matthews',\n",
       "       'Gould', 'Horton', 'Burgess', 'Stephens', 'Todd', 'Doyle',\n",
       "       'Murphy', 'Burrows', 'Daly', 'Pollard', 'Law', 'Watts',\n",
       "       'Patterson', 'Simmons', 'Schofield', 'Bryant', 'Graham', 'Kirk',\n",
       "       'Burns', 'Ross', 'Barnes', 'Lyons', 'King-Anderson', 'McKenzie',\n",
       "       'Gilbert', 'Pearce', 'Hooper', 'Miah', 'Kemp', 'Clark-Campbell',\n",
       "       'Brady', 'Nelson', 'Godfrey', 'Chamberlain', 'Barber', 'Thomson',\n",
       "       'Griffiths-Kerr', 'Harper', 'Foster-Kelly', 'Kirk-Walton',\n",
       "       'Barnett', 'Page-Carroll', 'Rowe', 'Duffy', 'Whitehead', 'Bibi',\n",
       "       'Hammond', 'Fowler', 'Blackburn', 'Talbot', 'Mitchell', 'Mistry',\n",
       "       'Bray', 'Burns-Hargreaves', 'Pickering', 'Bradley-Wells',\n",
       "       'Cameron', 'Reed', 'Crawford', 'Davison-Leach', 'Mellor',\n",
       "       'Rogers-Allen', 'Williams-Harding', 'Clayton-Scott', \"O'Sullivan\",\n",
       "       'Nolan', 'Thompson-Bray', 'Peters', 'Coleman', 'Stanley-Williams',\n",
       "       'Garner-Potts', 'Barry', 'Hobbs', 'Davey-Hurst', 'Tyler', 'Fraser',\n",
       "       'Benson', 'Bartlett', 'Bryan', 'Weston', 'Short',\n",
       "       'Clarke-Robinson', 'Thorpe', 'Mahmood', 'Finch', 'Hammond-Davis',\n",
       "       'Ellis-Brennan', 'Hewitt', 'Collier', 'Forster', 'Howe', 'Steele',\n",
       "       'Lowe', 'Humphries', 'Henderson', 'Hudson-Henderson', 'Marsh',\n",
       "       'Dunn-Green', 'Abbott', 'Thomas-Hill', 'Parkinson', 'Farrell',\n",
       "       'Patel-Donnelly', 'Johnson-Evans', 'Herbert', 'Chan', 'Savage',\n",
       "       'Howell', 'Robson', 'Williams-Savage', 'Nixon', 'Williamson',\n",
       "       'Field', 'Wells', 'Cartwright', 'Noble', 'Parkes', 'Lowe-Nolan',\n",
       "       'Turnbull', 'Carpenter', 'Hall-Davies', 'Wallis', 'Butler-Wade',\n",
       "       'Baxter', 'Rowley', 'Ford-Foster', 'Price-Simpson', 'Sanders',\n",
       "       'Bradshaw', 'Porter', 'Hall-Simpson', 'Perkins', 'Lucas', 'Slater',\n",
       "       'Iqbal', 'Little', 'Whittaker-Reeves', 'Lynch', 'Brennan-Singh',\n",
       "       'Law-Brennan-Singh', 'Black-King', 'Storey', 'Khan-Byrne', 'Burke',\n",
       "       'Peacock', 'Reid', 'Dodd', 'Johnston', 'Matthews-Jackson',\n",
       "       'Connor', 'Barber-Smith', 'Douglas-Hobbs', 'Reeves', 'Jones-Green',\n",
       "       'Wells-Wilkinson', 'Kaur', 'Rahman', 'Holmes-Whitehead', 'Pugh',\n",
       "       'King-Fisher', 'Hicks', 'Evans-Stewart', 'Ali-Allen', 'Browne',\n",
       "       'Berry-Evans', 'Hargreaves-Ellis', 'Baldwin', 'Sykes',\n",
       "       'Wilson-Wilson', 'Robson-Watson', 'Webster-Shaw', 'Coates',\n",
       "       'Moore-Fisher', 'James-Atkinson', 'Stokes-Glover', 'Tucker-Clark',\n",
       "       'Doherty', 'Hill-Davies', 'Thompson-Hill-Davies',\n",
       "       'Morris-Thompson-Hill-Davies', 'Winter', 'Craig', 'Taylor-Price',\n",
       "       'Clark-Byrne', 'Kennedy-Hudson', 'Jackson-Cox', 'Anderson-Harvey',\n",
       "       'Evans-Perry', 'Sims-Jones', 'Yates', 'Jenkins-Williams',\n",
       "       'Evans-Reed', 'Power', 'Pearson-Thompson', 'Nash-Begum', 'Stanley',\n",
       "       'Summers', 'Williams-McCarthy', 'Smith-Fowler', 'Hill-Campbell',\n",
       "       'Lloyd-Harrison', 'Townsend-McCarthy', 'Hill-Walton',\n",
       "       'Harris-Phillips', 'Smith-Graham', 'Myers', 'Holmes-Hughes',\n",
       "       'Brooks-Simpson', 'Roberts-Smith', 'Robinson-Perry', 'Carey',\n",
       "       'Sharp', 'Ahmed-Godfrey', 'Williams-Burgess', 'Morris-Harrison',\n",
       "       'Porter-Smith', 'Berry-Smith', 'Patel-Humphries',\n",
       "       'Gardiner-Simpson', 'Webb-Mellor', 'Bull-Roberts',\n",
       "       'Riley-Bull-Roberts', 'Roberts-Dawson', 'Wright-Edwards', 'Garner',\n",
       "       'Coleman-Walker', 'Howells-McCarthy', 'Smith-Moran',\n",
       "       'Rogers-Anderson', 'King-Carr', 'Ingram', 'Palmer-Davies',\n",
       "       'Green-King', 'Allan-Allen', 'Bowen-Carter', 'Cooke-Briggs',\n",
       "       'Vincent', 'Rhodes-Williams', 'Moore-Barrett', 'Faulkner',\n",
       "       'Connolly-Smith', 'Gough', 'Hayes-May', 'Wyatt', 'Stokes-Brown',\n",
       "       'Abbott-Bishop', 'Birch', 'Chapman-Woods', 'Butcher-Mills',\n",
       "       'Harrison-Robinson', 'Chadwick', 'Briggs-Jackson', 'Hughes-Taylor'],\n",
       "      dtype=object)"
      ]
     },
     "execution_count": 909,
     "metadata": {},
     "output_type": "execute_result"
    }
   ],
   "source": [
    "df[\"Surname\"].unique()"
   ]
  },
  {
   "cell_type": "code",
   "execution_count": 910,
   "id": "190bcb19-c48e-438d-92d0-7115ff280f1d",
   "metadata": {},
   "outputs": [],
   "source": [
    "# Define the function to fill Surname\n",
    "def fill_Surname(row, lookup_df):\n",
    "    if pd.isna(row['Surname']):\n",
    "        # Find rows in lookup_df with the same House Number and Street and a non-missing Surname\n",
    "        match = lookup_df[(lookup_df['House Number'] == row['House Number']) & \n",
    "                          (lookup_df['Street'] == row['Street']) & \n",
    "                          ~pd.isna(lookup_df['Surname'])]\n",
    "        if not match.empty:  # If a match is found\n",
    "            return match['Surname'].iloc[0]  # Return the first matched Surname\n",
    "        else:\n",
    "            # Replace rest NaN values with the mode of the Surname column\n",
    "            return lookup_df['Surname'].mode()[0]\n",
    "    return row['Surname']  # If Surname is not missing, return it as is\n",
    "\n",
    "# Apply the function to fill missing Surname\n",
    "df['Surname'] = df.apply(lambda row: fill_Surname(row, df), axis=1)"
   ]
  },
  {
   "cell_type": "code",
   "execution_count": 911,
   "id": "1b118b02-8919-4b5e-966a-dcada8beb17d",
   "metadata": {},
   "outputs": [
    {
     "name": "stdout",
     "output_type": "stream",
     "text": [
      "NaN Values in Surname:  0\n"
     ]
    }
   ],
   "source": [
    "print(\"NaN Values in Surname: \",df[\"Surname\"].isna().sum())"
   ]
  },
  {
   "cell_type": "code",
   "execution_count": 912,
   "id": "67c5c024-9cd9-4e73-bf95-d4282824f8f3",
   "metadata": {},
   "outputs": [
    {
     "data": {
      "text/html": [
       "<div>\n",
       "<style scoped>\n",
       "    .dataframe tbody tr th:only-of-type {\n",
       "        vertical-align: middle;\n",
       "    }\n",
       "\n",
       "    .dataframe tbody tr th {\n",
       "        vertical-align: top;\n",
       "    }\n",
       "\n",
       "    .dataframe thead th {\n",
       "        text-align: right;\n",
       "    }\n",
       "</style>\n",
       "<table border=\"1\" class=\"dataframe\">\n",
       "  <thead>\n",
       "    <tr style=\"text-align: right;\">\n",
       "      <th></th>\n",
       "      <th>Unnamed: 0</th>\n",
       "      <th>House Number</th>\n",
       "      <th>Street</th>\n",
       "      <th>First Name</th>\n",
       "      <th>Surname</th>\n",
       "      <th>Age</th>\n",
       "      <th>Relationship to Head of House</th>\n",
       "      <th>Marital Status</th>\n",
       "      <th>Gender</th>\n",
       "      <th>Occupation</th>\n",
       "      <th>Infirmity</th>\n",
       "      <th>Religion</th>\n",
       "    </tr>\n",
       "  </thead>\n",
       "  <tbody>\n",
       "    <tr>\n",
       "      <th>97</th>\n",
       "      <td>97</td>\n",
       "      <td>4.0</td>\n",
       "      <td>Albert Avenue</td>\n",
       "      <td>Debra</td>\n",
       "      <td>Turner</td>\n",
       "      <td>37</td>\n",
       "      <td>Head</td>\n",
       "      <td>Divorced</td>\n",
       "      <td>Female</td>\n",
       "      <td>Unemployed</td>\n",
       "      <td>NaN</td>\n",
       "      <td>NaN</td>\n",
       "    </tr>\n",
       "    <tr>\n",
       "      <th>98</th>\n",
       "      <td>98</td>\n",
       "      <td>4.0</td>\n",
       "      <td>Albert Avenue</td>\n",
       "      <td>Claire</td>\n",
       "      <td>Turner</td>\n",
       "      <td>1</td>\n",
       "      <td>Daughter</td>\n",
       "      <td>NaN</td>\n",
       "      <td>Female</td>\n",
       "      <td>Child</td>\n",
       "      <td>NaN</td>\n",
       "      <td>NaN</td>\n",
       "    </tr>\n",
       "    <tr>\n",
       "      <th>99</th>\n",
       "      <td>99</td>\n",
       "      <td>4.0</td>\n",
       "      <td>Albert Avenue</td>\n",
       "      <td>Sally</td>\n",
       "      <td>Holloway</td>\n",
       "      <td>40</td>\n",
       "      <td>Lodger</td>\n",
       "      <td>Single</td>\n",
       "      <td>Female</td>\n",
       "      <td>Geologist, wellsite</td>\n",
       "      <td>NaN</td>\n",
       "      <td>Sikh</td>\n",
       "    </tr>\n",
       "  </tbody>\n",
       "</table>\n",
       "</div>"
      ],
      "text/plain": [
       "    Unnamed: 0  House Number         Street First Name   Surname Age  \\\n",
       "97          97           4.0  Albert Avenue      Debra    Turner  37   \n",
       "98          98           4.0  Albert Avenue     Claire    Turner   1   \n",
       "99          99           4.0  Albert Avenue      Sally  Holloway  40   \n",
       "\n",
       "   Relationship to Head of House Marital Status  Gender           Occupation  \\\n",
       "97                          Head       Divorced  Female           Unemployed   \n",
       "98                      Daughter            NaN  Female                Child   \n",
       "99                        Lodger         Single  Female  Geologist, wellsite   \n",
       "\n",
       "   Infirmity Religion  \n",
       "97       NaN      NaN  \n",
       "98       NaN      NaN  \n",
       "99       NaN     Sikh  "
      ]
     },
     "execution_count": 912,
     "metadata": {},
     "output_type": "execute_result"
    }
   ],
   "source": [
    "df.loc[97:99]"
   ]
  },
  {
   "cell_type": "code",
   "execution_count": 811,
   "id": "2d0670bb-b7bb-4f2f-ac87-4bbb21c0de07",
   "metadata": {},
   "outputs": [
    {
     "data": {
      "text/plain": [
       "'Smith'"
      ]
     },
     "execution_count": 811,
     "metadata": {},
     "output_type": "execute_result"
    }
   ],
   "source": [
    "df.loc[45, 'Surname']"
   ]
  },
  {
   "cell_type": "markdown",
   "id": "d9925692-fc3b-4125-b9e5-b9d3ebdfa03c",
   "metadata": {},
   "source": [
    "### Age"
   ]
  },
  {
   "cell_type": "code",
   "execution_count": 812,
   "id": "b1b32310-35a0-4a66-9261-03006785e36c",
   "metadata": {},
   "outputs": [
    {
     "data": {
      "text/plain": [
       "array(['20', '26', '66', '21', '33', '36', '84', '65', '63', '31', '42',\n",
       "       '51', '17', '69', '40', '39', '58', '61', '37', '67', '68', '72',\n",
       "       '71', '43', '88', '27', '29', '5', '62', '80', '19', '23', '28',\n",
       "       '45', '73', '24', '57', '30', '34', '1', '56', '18', '85', '41',\n",
       "       '14', '35', '38', '54', '83', '8', '76', '78', '44', '53', '22',\n",
       "       '64', '75', '82', '46', '60', nan, '11', '25', '4', '7', '6', '81',\n",
       "       '59', '50', '47', '3', '52', '91', '89', '9', '2', '32', '49',\n",
       "       '13', '70', '77', '10', '79', '16', '90', '0', '55', '15', '92',\n",
       "       '48', '74', '86', '12', '93', '99', '95', '105', '94', '87', '101',\n",
       "       '97', '62.83041769675679', '58.83041769675679', '96',\n",
       "       '47.71556193215697', '103', '106', '89.87416264746113',\n",
       "       '38.00000000000001', 'three', 'two', '58.63373334760486', '104',\n",
       "       '102', '170', '98', 'eight', '100'], dtype=object)"
      ]
     },
     "execution_count": 812,
     "metadata": {},
     "output_type": "execute_result"
    }
   ],
   "source": [
    "df[\"Age\"].unique()"
   ]
  },
  {
   "cell_type": "code",
   "execution_count": 813,
   "id": "93bc5ebb-37b1-4b42-8e0c-26d530f3288a",
   "metadata": {},
   "outputs": [
    {
     "data": {
      "text/plain": [
       "116         John\n",
       "427         Jade\n",
       "659         Anna\n",
       "1172       Debra\n",
       "1242        Tina\n",
       "1273      Leslie\n",
       "1398       Julie\n",
       "1421      Howard\n",
       "1455      Lauren\n",
       "1467      Jordan\n",
       "1886       Jemma\n",
       "2000       Kerry\n",
       "2527      Damien\n",
       "2621      Sharon\n",
       "2744     Russell\n",
       "3016         Sam\n",
       "3131      Damien\n",
       "3314      Gordon\n",
       "3756     Anthony\n",
       "4349      Alison\n",
       "4704     Patrick\n",
       "4737      Judith\n",
       "4931       Naomi\n",
       "4980        Lisa\n",
       "5019       Barry\n",
       "5093       Jamie\n",
       "5327      Hollie\n",
       "5684      Hilary\n",
       "5767      Daniel\n",
       "6095       Lynda\n",
       "6590        Glen\n",
       "6592       Terry\n",
       "6696    Jennifer\n",
       "6887        Neil\n",
       "7390      Olivia\n",
       "7711       Fiona\n",
       "7840       Ricky\n",
       "7984         Zoe\n",
       "7989       Louis\n",
       "7994       Derek\n",
       "Name: First Name, dtype: object"
      ]
     },
     "execution_count": 813,
     "metadata": {},
     "output_type": "execute_result"
    }
   ],
   "source": [
    "df.loc[df['Age'].isnull(), 'First Name']"
   ]
  },
  {
   "cell_type": "code",
   "execution_count": 814,
   "id": "89b292a1-d135-43f7-96dd-360a0ac9cf1e",
   "metadata": {},
   "outputs": [],
   "source": [
    "#Replacing Categorical Values into int\n",
    "df['Age'] = df['Age'].replace('three', 3)\n",
    "df['Age'] = df['Age'].replace('two', 2)\n",
    "df['Age'] = df['Age'].replace('eight', 8)"
   ]
  },
  {
   "cell_type": "code",
   "execution_count": 815,
   "id": "04fcc78f-6d98-4bfa-9a32-08ebf0fee840",
   "metadata": {},
   "outputs": [
    {
     "data": {
      "text/html": [
       "<div>\n",
       "<style scoped>\n",
       "    .dataframe tbody tr th:only-of-type {\n",
       "        vertical-align: middle;\n",
       "    }\n",
       "\n",
       "    .dataframe tbody tr th {\n",
       "        vertical-align: top;\n",
       "    }\n",
       "\n",
       "    .dataframe thead th {\n",
       "        text-align: right;\n",
       "    }\n",
       "</style>\n",
       "<table border=\"1\" class=\"dataframe\">\n",
       "  <thead>\n",
       "    <tr style=\"text-align: right;\">\n",
       "      <th></th>\n",
       "      <th>Unnamed: 0</th>\n",
       "      <th>House Number</th>\n",
       "      <th>Street</th>\n",
       "      <th>First Name</th>\n",
       "      <th>Surname</th>\n",
       "      <th>Age</th>\n",
       "      <th>Relationship to Head of House</th>\n",
       "      <th>Marital Status</th>\n",
       "      <th>Gender</th>\n",
       "      <th>Occupation</th>\n",
       "      <th>Infirmity</th>\n",
       "      <th>Religion</th>\n",
       "    </tr>\n",
       "  </thead>\n",
       "  <tbody>\n",
       "    <tr>\n",
       "      <th>6622</th>\n",
       "      <td>6622</td>\n",
       "      <td>25.0</td>\n",
       "      <td>London Street</td>\n",
       "      <td>Mohammed</td>\n",
       "      <td>Scott</td>\n",
       "      <td>170</td>\n",
       "      <td>Grandson</td>\n",
       "      <td>NaN</td>\n",
       "      <td>male</td>\n",
       "      <td>Student</td>\n",
       "      <td>NaN</td>\n",
       "      <td>NaN</td>\n",
       "    </tr>\n",
       "  </tbody>\n",
       "</table>\n",
       "</div>"
      ],
      "text/plain": [
       "      Unnamed: 0  House Number         Street First Name Surname  Age  \\\n",
       "6622        6622          25.0  London Street   Mohammed   Scott  170   \n",
       "\n",
       "     Relationship to Head of House Marital Status Gender Occupation Infirmity  \\\n",
       "6622                      Grandson            NaN   male    Student       NaN   \n",
       "\n",
       "     Religion  \n",
       "6622      NaN  "
      ]
     },
     "execution_count": 815,
     "metadata": {},
     "output_type": "execute_result"
    }
   ],
   "source": [
    "df[df[\"Age\"] == \"170\"]"
   ]
  },
  {
   "cell_type": "code",
   "execution_count": 816,
   "id": "a3a2e514-e561-47d6-bce4-a83730744c4b",
   "metadata": {},
   "outputs": [],
   "source": [
    "Age_mode = df.loc[(df[\"Relationship to Head of House\"] == \"Grandson\") & (df[\"Occupation\"] == \"Student\"),\"Age\"].mode()[0]\n",
    "df['Age'] = df['Age'].replace(\"170\", Age_mode)"
   ]
  },
  {
   "cell_type": "code",
   "execution_count": 817,
   "id": "95ebfba2-22b4-492e-b967-27205fed1c40",
   "metadata": {},
   "outputs": [],
   "source": [
    "#Float to int\n",
    "df[\"Age\"] = pd.to_numeric(df[\"Age\"] ,errors = \"coerce\")"
   ]
  },
  {
   "cell_type": "code",
   "execution_count": 819,
   "id": "d33db27b-e260-4c78-8bf1-b5ad1682dad5",
   "metadata": {},
   "outputs": [],
   "source": [
    "# Define the function to Fill Age\n",
    "def fill_Age(row, lookup_df):\n",
    "    if pd.isna(row['Age']):\n",
    "        if row[\"Occupation\"] == \"Student\" :\n",
    "            return lookup_df.loc[lookup_df[\"Occupation\"] == \"Student\", 'Age'].median()\n",
    "        else:\n",
    "            return lookup_df.loc[lookup_df[\"Age\"] > 18, \"Age\"].median()\n",
    "    return row['Age']  # If Surname is not missing, return it as is\n",
    "\n",
    "# Apply the function to fill missing Age\n",
    "df['Age'] = df.apply(lambda row: fill_Age(row, df), axis=1)"
   ]
  },
  {
   "cell_type": "code",
   "execution_count": 821,
   "id": "72724fdf-533d-4942-a321-5809b9cf32a5",
   "metadata": {},
   "outputs": [
    {
     "name": "stdout",
     "output_type": "stream",
     "text": [
      "NaN Values in Age:  0\n"
     ]
    }
   ],
   "source": [
    "print(\"NaN Values in Age: \",df[\"Age\"].isna().sum())"
   ]
  },
  {
   "cell_type": "markdown",
   "id": "0552706f-e420-46f8-b295-b72af29e4532",
   "metadata": {},
   "source": [
    "### Relationship to Head of House"
   ]
  },
  {
   "cell_type": "code",
   "execution_count": 737,
   "id": "28fc021c-3c51-45ab-8068-144de228462e",
   "metadata": {},
   "outputs": [
    {
     "data": {
      "text/html": [
       "<div>\n",
       "<style scoped>\n",
       "    .dataframe tbody tr th:only-of-type {\n",
       "        vertical-align: middle;\n",
       "    }\n",
       "\n",
       "    .dataframe tbody tr th {\n",
       "        vertical-align: top;\n",
       "    }\n",
       "\n",
       "    .dataframe thead th {\n",
       "        text-align: right;\n",
       "    }\n",
       "</style>\n",
       "<table border=\"1\" class=\"dataframe\">\n",
       "  <thead>\n",
       "    <tr style=\"text-align: right;\">\n",
       "      <th></th>\n",
       "      <th>Unnamed: 0</th>\n",
       "      <th>House Number</th>\n",
       "      <th>Street</th>\n",
       "      <th>First Name</th>\n",
       "      <th>Surname</th>\n",
       "      <th>Age</th>\n",
       "      <th>Relationship to Head of House</th>\n",
       "      <th>Marital Status</th>\n",
       "      <th>Gender</th>\n",
       "      <th>Occupation</th>\n",
       "      <th>Infirmity</th>\n",
       "      <th>Religion</th>\n",
       "    </tr>\n",
       "  </thead>\n",
       "  <tbody>\n",
       "    <tr>\n",
       "      <th>4</th>\n",
       "      <td>4</td>\n",
       "      <td>4.0</td>\n",
       "      <td>Johnson Glens</td>\n",
       "      <td>Sophie</td>\n",
       "      <td>Parsons</td>\n",
       "      <td>33.0</td>\n",
       "      <td>NaN</td>\n",
       "      <td>Single</td>\n",
       "      <td>Female</td>\n",
       "      <td>Adult nurse</td>\n",
       "      <td>NaN</td>\n",
       "      <td>NaN</td>\n",
       "    </tr>\n",
       "    <tr>\n",
       "      <th>5</th>\n",
       "      <td>5</td>\n",
       "      <td>4.0</td>\n",
       "      <td>Johnson Glens</td>\n",
       "      <td>Pauline</td>\n",
       "      <td>Marsden</td>\n",
       "      <td>36.0</td>\n",
       "      <td>NaN</td>\n",
       "      <td>Single</td>\n",
       "      <td>Female</td>\n",
       "      <td>Risk analyst</td>\n",
       "      <td>NaN</td>\n",
       "      <td>Sikh</td>\n",
       "    </tr>\n",
       "    <tr>\n",
       "      <th>6</th>\n",
       "      <td>6</td>\n",
       "      <td>5.0</td>\n",
       "      <td>Johnson Glens</td>\n",
       "      <td>Iain</td>\n",
       "      <td>Hutchinson</td>\n",
       "      <td>84.0</td>\n",
       "      <td>NaN</td>\n",
       "      <td>Widowed</td>\n",
       "      <td>Male</td>\n",
       "      <td>Retired Manufacturing engineer</td>\n",
       "      <td>NaN</td>\n",
       "      <td>Muslim</td>\n",
       "    </tr>\n",
       "    <tr>\n",
       "      <th>37</th>\n",
       "      <td>37</td>\n",
       "      <td>23.0</td>\n",
       "      <td>Johnson Glens</td>\n",
       "      <td>Craig</td>\n",
       "      <td>Hughes</td>\n",
       "      <td>20.0</td>\n",
       "      <td>NaN</td>\n",
       "      <td>Married</td>\n",
       "      <td>Male</td>\n",
       "      <td>University Student</td>\n",
       "      <td>NaN</td>\n",
       "      <td>Christian</td>\n",
       "    </tr>\n",
       "    <tr>\n",
       "      <th>57</th>\n",
       "      <td>57</td>\n",
       "      <td>33.0</td>\n",
       "      <td>Johnson Glens</td>\n",
       "      <td>Adrian</td>\n",
       "      <td>Armstrong</td>\n",
       "      <td>21.0</td>\n",
       "      <td>NaN</td>\n",
       "      <td>Single</td>\n",
       "      <td>Male</td>\n",
       "      <td>University Student</td>\n",
       "      <td>NaN</td>\n",
       "      <td>Catholic</td>\n",
       "    </tr>\n",
       "    <tr>\n",
       "      <th>...</th>\n",
       "      <td>...</td>\n",
       "      <td>...</td>\n",
       "      <td>...</td>\n",
       "      <td>...</td>\n",
       "      <td>...</td>\n",
       "      <td>...</td>\n",
       "      <td>...</td>\n",
       "      <td>...</td>\n",
       "      <td>...</td>\n",
       "      <td>...</td>\n",
       "      <td>...</td>\n",
       "      <td>...</td>\n",
       "    </tr>\n",
       "    <tr>\n",
       "      <th>7953</th>\n",
       "      <td>7953</td>\n",
       "      <td>1.0</td>\n",
       "      <td>Windermere Warehouse</td>\n",
       "      <td>Dawn</td>\n",
       "      <td>Taylor</td>\n",
       "      <td>18.0</td>\n",
       "      <td>NaN</td>\n",
       "      <td>Divorced</td>\n",
       "      <td>Female</td>\n",
       "      <td>Student</td>\n",
       "      <td>NaN</td>\n",
       "      <td>NaN</td>\n",
       "    </tr>\n",
       "    <tr>\n",
       "      <th>7954</th>\n",
       "      <td>7954</td>\n",
       "      <td>1.0</td>\n",
       "      <td>Windermere Warehouse</td>\n",
       "      <td>Christine</td>\n",
       "      <td>Thompson</td>\n",
       "      <td>62.0</td>\n",
       "      <td>NaN</td>\n",
       "      <td>Single</td>\n",
       "      <td>Female</td>\n",
       "      <td>Scientist, physiological</td>\n",
       "      <td>NaN</td>\n",
       "      <td>Christian</td>\n",
       "    </tr>\n",
       "    <tr>\n",
       "      <th>7955</th>\n",
       "      <td>7955</td>\n",
       "      <td>1.0</td>\n",
       "      <td>Windermere Warehouse</td>\n",
       "      <td>Sally</td>\n",
       "      <td>Brown</td>\n",
       "      <td>63.0</td>\n",
       "      <td>NaN</td>\n",
       "      <td>Single</td>\n",
       "      <td>Female</td>\n",
       "      <td>Teacher, special educational needs</td>\n",
       "      <td>NaN</td>\n",
       "      <td>Christian</td>\n",
       "    </tr>\n",
       "    <tr>\n",
       "      <th>7956</th>\n",
       "      <td>7956</td>\n",
       "      <td>1.0</td>\n",
       "      <td>Windermere Warehouse</td>\n",
       "      <td>Leah</td>\n",
       "      <td>Chadwick</td>\n",
       "      <td>36.0</td>\n",
       "      <td>NaN</td>\n",
       "      <td>Single</td>\n",
       "      <td>Female</td>\n",
       "      <td>Sports therapist</td>\n",
       "      <td>NaN</td>\n",
       "      <td>Catholic</td>\n",
       "    </tr>\n",
       "    <tr>\n",
       "      <th>7957</th>\n",
       "      <td>7957</td>\n",
       "      <td>1.0</td>\n",
       "      <td>Windermere Warehouse</td>\n",
       "      <td>Sara</td>\n",
       "      <td>Wright</td>\n",
       "      <td>54.0</td>\n",
       "      <td>NaN</td>\n",
       "      <td>Single</td>\n",
       "      <td>Female</td>\n",
       "      <td>Television production assistant</td>\n",
       "      <td>NaN</td>\n",
       "      <td>NaN</td>\n",
       "    </tr>\n",
       "  </tbody>\n",
       "</table>\n",
       "<p>626 rows × 12 columns</p>\n",
       "</div>"
      ],
      "text/plain": [
       "      Unnamed: 0  House Number                Street First Name     Surname  \\\n",
       "4              4           4.0         Johnson Glens     Sophie     Parsons   \n",
       "5              5           4.0         Johnson Glens    Pauline     Marsden   \n",
       "6              6           5.0         Johnson Glens       Iain  Hutchinson   \n",
       "37            37          23.0         Johnson Glens      Craig      Hughes   \n",
       "57            57          33.0         Johnson Glens     Adrian   Armstrong   \n",
       "...          ...           ...                   ...        ...         ...   \n",
       "7953        7953           1.0  Windermere Warehouse       Dawn      Taylor   \n",
       "7954        7954           1.0  Windermere Warehouse  Christine    Thompson   \n",
       "7955        7955           1.0  Windermere Warehouse      Sally       Brown   \n",
       "7956        7956           1.0  Windermere Warehouse       Leah    Chadwick   \n",
       "7957        7957           1.0  Windermere Warehouse       Sara      Wright   \n",
       "\n",
       "       Age Relationship to Head of House Marital Status  Gender  \\\n",
       "4     33.0                           NaN         Single  Female   \n",
       "5     36.0                           NaN         Single  Female   \n",
       "6     84.0                           NaN        Widowed    Male   \n",
       "37    20.0                           NaN        Married    Male   \n",
       "57    21.0                           NaN         Single    Male   \n",
       "...    ...                           ...            ...     ...   \n",
       "7953  18.0                           NaN       Divorced  Female   \n",
       "7954  62.0                           NaN         Single  Female   \n",
       "7955  63.0                           NaN         Single  Female   \n",
       "7956  36.0                           NaN         Single  Female   \n",
       "7957  54.0                           NaN         Single  Female   \n",
       "\n",
       "                              Occupation Infirmity   Religion  \n",
       "4                            Adult nurse       NaN        NaN  \n",
       "5                           Risk analyst       NaN       Sikh  \n",
       "6         Retired Manufacturing engineer       NaN     Muslim  \n",
       "37                    University Student       NaN  Christian  \n",
       "57                    University Student       NaN   Catholic  \n",
       "...                                  ...       ...        ...  \n",
       "7953                             Student       NaN        NaN  \n",
       "7954            Scientist, physiological       NaN  Christian  \n",
       "7955  Teacher, special educational needs       NaN  Christian  \n",
       "7956                    Sports therapist       NaN   Catholic  \n",
       "7957     Television production assistant       NaN        NaN  \n",
       "\n",
       "[626 rows x 12 columns]"
      ]
     },
     "execution_count": 737,
     "metadata": {},
     "output_type": "execute_result"
    }
   ],
   "source": [
    "df[df[\"Relationship to Head of House\"].isna()]"
   ]
  },
  {
   "cell_type": "code",
   "execution_count": 822,
   "id": "bb2f6bd2-0e9a-474e-bb40-1638eb2d9e84",
   "metadata": {},
   "outputs": [],
   "source": [
    "df.loc[(df[\"Age\"]>=18) & (df[\"Relationship to Head of House\"].isna()),\"Relationship to Head of House\"] = \"Head\"\n",
    "df.loc[(df[\"Age\"]<18) & (df[\"Relationship to Head of House\"].isna() & (df[\"Gender\"] == \"Male\")),\"Relationship to Head of House\"] = \"Son\"\n",
    "df.loc[(df[\"Age\"]<18) & (df[\"Relationship to Head of House\"].isna() & (df[\"Gender\"] == \"Female\")),\"Relationship to Head of House\"] = \"Daughter\"\n"
   ]
  },
  {
   "cell_type": "code",
   "execution_count": 823,
   "id": "8c989b28-082b-4b24-80fd-ecca11cd876f",
   "metadata": {},
   "outputs": [
    {
     "name": "stdout",
     "output_type": "stream",
     "text": [
      "NaN Values in Relationship to Head of House:  1\n"
     ]
    }
   ],
   "source": [
    "print(\"NaN Values in Relationship to Head of House: \",df[\"Relationship to Head of House\"].isna().sum())"
   ]
  },
  {
   "cell_type": "code",
   "execution_count": 824,
   "id": "80b713e5-5a61-4f33-99ef-9aa19879026a",
   "metadata": {},
   "outputs": [
    {
     "data": {
      "text/html": [
       "<div>\n",
       "<style scoped>\n",
       "    .dataframe tbody tr th:only-of-type {\n",
       "        vertical-align: middle;\n",
       "    }\n",
       "\n",
       "    .dataframe tbody tr th {\n",
       "        vertical-align: top;\n",
       "    }\n",
       "\n",
       "    .dataframe thead th {\n",
       "        text-align: right;\n",
       "    }\n",
       "</style>\n",
       "<table border=\"1\" class=\"dataframe\">\n",
       "  <thead>\n",
       "    <tr style=\"text-align: right;\">\n",
       "      <th></th>\n",
       "      <th>Unnamed: 0</th>\n",
       "      <th>House Number</th>\n",
       "      <th>Street</th>\n",
       "      <th>First Name</th>\n",
       "      <th>Surname</th>\n",
       "      <th>Age</th>\n",
       "      <th>Relationship to Head of House</th>\n",
       "      <th>Marital Status</th>\n",
       "      <th>Gender</th>\n",
       "      <th>Occupation</th>\n",
       "      <th>Infirmity</th>\n",
       "      <th>Religion</th>\n",
       "    </tr>\n",
       "  </thead>\n",
       "  <tbody>\n",
       "    <tr>\n",
       "      <th>7157</th>\n",
       "      <td>7157</td>\n",
       "      <td>1.0</td>\n",
       "      <td>Robinson Spring</td>\n",
       "      <td>Brandon</td>\n",
       "      <td>Brooks</td>\n",
       "      <td>3.0</td>\n",
       "      <td>NaN</td>\n",
       "      <td>NaN</td>\n",
       "      <td>NaN</td>\n",
       "      <td>Child</td>\n",
       "      <td>NaN</td>\n",
       "      <td>NaN</td>\n",
       "    </tr>\n",
       "  </tbody>\n",
       "</table>\n",
       "</div>"
      ],
      "text/plain": [
       "      Unnamed: 0  House Number           Street First Name Surname  Age  \\\n",
       "7157        7157           1.0  Robinson Spring    Brandon  Brooks  3.0   \n",
       "\n",
       "     Relationship to Head of House Marital Status Gender Occupation Infirmity  \\\n",
       "7157                           NaN            NaN    NaN      Child       NaN   \n",
       "\n",
       "     Religion  \n",
       "7157      NaN  "
      ]
     },
     "execution_count": 824,
     "metadata": {},
     "output_type": "execute_result"
    }
   ],
   "source": [
    "df[df[\"Relationship to Head of House\"].isna()]"
   ]
  },
  {
   "cell_type": "code",
   "execution_count": 825,
   "id": "d3cdc68e-734d-4bda-8dcb-515b8ce639eb",
   "metadata": {},
   "outputs": [],
   "source": [
    "df.loc[7157,\"Relationship to Head of House\"] = \"Son\""
   ]
  },
  {
   "cell_type": "code",
   "execution_count": 826,
   "id": "1476f76d-072c-452e-b8ab-b38322f6afc8",
   "metadata": {},
   "outputs": [
    {
     "name": "stdout",
     "output_type": "stream",
     "text": [
      "NaN Values in Relationship to Head of House:  0\n"
     ]
    }
   ],
   "source": [
    "print(\"NaN Values in Relationship to Head of House: \",df[\"Relationship to Head of House\"].isna().sum())"
   ]
  },
  {
   "cell_type": "markdown",
   "id": "68498fae-6e31-4df6-b050-01a5b4d3e47a",
   "metadata": {},
   "source": [
    "### Marital Status"
   ]
  },
  {
   "cell_type": "code",
   "execution_count": 827,
   "id": "55e3deaf-ddcd-42ef-9460-4c31cae43575",
   "metadata": {},
   "outputs": [
    {
     "data": {
      "text/plain": [
       "array(['Single', 'Widowed', 'Divorced', 'Married', nan], dtype=object)"
      ]
     },
     "execution_count": 827,
     "metadata": {},
     "output_type": "execute_result"
    }
   ],
   "source": [
    "df[\"Marital Status\"].unique()"
   ]
  },
  {
   "cell_type": "code",
   "execution_count": 828,
   "id": "64394e26-67ce-4241-a642-139fe5c3b648",
   "metadata": {},
   "outputs": [],
   "source": [
    "df.loc[df[\"Age\"]<18,\"Marital Status\"] = \"Single\""
   ]
  },
  {
   "cell_type": "code",
   "execution_count": 829,
   "id": "f73f67ed-9916-4178-8869-a35fc77433c8",
   "metadata": {},
   "outputs": [
    {
     "name": "stdout",
     "output_type": "stream",
     "text": [
      "NaN Values in Marital Status:  32\n"
     ]
    }
   ],
   "source": [
    "print(\"NaN Values in Marital Status: \",df[\"Marital Status\"].isna().sum())"
   ]
  },
  {
   "cell_type": "code",
   "execution_count": 830,
   "id": "be27b2a0-5c77-441e-89e9-ebb868446086",
   "metadata": {},
   "outputs": [],
   "source": [
    "df.loc[df[\"Relationship to Head of House\"] == \"Wife\",\"Marital Status\"] = \"Married\"\n",
    "df.loc[df[\"Relationship to Head of House\"] == \"Husband\",\"Marital Status\"] = \"Married\""
   ]
  },
  {
   "cell_type": "code",
   "execution_count": 831,
   "id": "21a12b1e-b626-434e-88bd-f3d3f16daeb0",
   "metadata": {},
   "outputs": [
    {
     "name": "stdout",
     "output_type": "stream",
     "text": [
      "NaN Values in Marital Status:  25\n"
     ]
    }
   ],
   "source": [
    "print(\"NaN Values in Marital Status: \",df[\"Marital Status\"].isna().sum())"
   ]
  },
  {
   "cell_type": "code",
   "execution_count": 832,
   "id": "34570837-3a60-4235-b406-aa26df6f786e",
   "metadata": {},
   "outputs": [],
   "source": [
    "df[\"Marital Status\"] = df[\"Marital Status\"].fillna(\"Single\")"
   ]
  },
  {
   "cell_type": "code",
   "execution_count": 833,
   "id": "8275606e-0db0-4e77-bb3c-0424fa9adae9",
   "metadata": {},
   "outputs": [
    {
     "name": "stdout",
     "output_type": "stream",
     "text": [
      "NaN Values in Marital Status:  0\n"
     ]
    }
   ],
   "source": [
    "print(\"NaN Values in Marital Status: \",df[\"Marital Status\"].isna().sum())"
   ]
  },
  {
   "cell_type": "markdown",
   "id": "fe405d4a-05f9-47d9-9af7-00689db04649",
   "metadata": {},
   "source": [
    "### Gender"
   ]
  },
  {
   "cell_type": "code",
   "execution_count": 834,
   "id": "ed66e089-164a-4261-8758-109da7128f61",
   "metadata": {},
   "outputs": [
    {
     "data": {
      "text/plain": [
       "array(['Male', 'Female', 'm', 'male', 'F', 'f', nan, 'female', 'M', ' '],\n",
       "      dtype=object)"
      ]
     },
     "execution_count": 834,
     "metadata": {},
     "output_type": "execute_result"
    }
   ],
   "source": [
    "df[\"Gender\"].unique()"
   ]
  },
  {
   "cell_type": "code",
   "execution_count": 835,
   "id": "fbc2d9df-69d1-4c41-9d4a-320f12fd9ffa",
   "metadata": {},
   "outputs": [],
   "source": [
    "#Replacing all entries into Male/Female Format\n",
    "df['Gender'] = df['Gender'].replace('m', \"Male\")\n",
    "df['Gender'] = df['Gender'].replace('male', \"Male\")\n",
    "df['Gender'] = df['Gender'].replace('F', \"Female\")\n",
    "df['Gender'] = df['Gender'].replace('f', \"Female\")\n",
    "df['Gender'] = df['Gender'].replace('female', \"Female\")\n",
    "df['Gender'] = df['Gender'].replace('M', \"Male\")"
   ]
  },
  {
   "cell_type": "code",
   "execution_count": 836,
   "id": "c7821ad0-64a6-4364-afef-fae34192ab3a",
   "metadata": {},
   "outputs": [
    {
     "data": {
      "text/html": [
       "<div>\n",
       "<style scoped>\n",
       "    .dataframe tbody tr th:only-of-type {\n",
       "        vertical-align: middle;\n",
       "    }\n",
       "\n",
       "    .dataframe tbody tr th {\n",
       "        vertical-align: top;\n",
       "    }\n",
       "\n",
       "    .dataframe thead th {\n",
       "        text-align: right;\n",
       "    }\n",
       "</style>\n",
       "<table border=\"1\" class=\"dataframe\">\n",
       "  <thead>\n",
       "    <tr style=\"text-align: right;\">\n",
       "      <th></th>\n",
       "      <th>Unnamed: 0</th>\n",
       "      <th>House Number</th>\n",
       "      <th>Street</th>\n",
       "      <th>First Name</th>\n",
       "      <th>Surname</th>\n",
       "      <th>Age</th>\n",
       "      <th>Relationship to Head of House</th>\n",
       "      <th>Marital Status</th>\n",
       "      <th>Gender</th>\n",
       "      <th>Occupation</th>\n",
       "      <th>Infirmity</th>\n",
       "      <th>Religion</th>\n",
       "    </tr>\n",
       "  </thead>\n",
       "  <tbody>\n",
       "    <tr>\n",
       "      <th>4533</th>\n",
       "      <td>4533</td>\n",
       "      <td>24.0</td>\n",
       "      <td>Bolton Hills</td>\n",
       "      <td>Valerie</td>\n",
       "      <td>Baker</td>\n",
       "      <td>4.0</td>\n",
       "      <td>Daughter</td>\n",
       "      <td>Single</td>\n",
       "      <td></td>\n",
       "      <td>Child</td>\n",
       "      <td>NaN</td>\n",
       "      <td>NaN</td>\n",
       "    </tr>\n",
       "  </tbody>\n",
       "</table>\n",
       "</div>"
      ],
      "text/plain": [
       "      Unnamed: 0  House Number        Street First Name Surname  Age  \\\n",
       "4533        4533          24.0  Bolton Hills    Valerie   Baker  4.0   \n",
       "\n",
       "     Relationship to Head of House Marital Status Gender Occupation Infirmity  \\\n",
       "4533                      Daughter         Single             Child       NaN   \n",
       "\n",
       "     Religion  \n",
       "4533      NaN  "
      ]
     },
     "execution_count": 836,
     "metadata": {},
     "output_type": "execute_result"
    }
   ],
   "source": [
    "df[df[\"Gender\"] == \" \"]"
   ]
  },
  {
   "cell_type": "code",
   "execution_count": 837,
   "id": "3984120d-816a-45da-9aff-9078b09b393b",
   "metadata": {},
   "outputs": [],
   "source": [
    "df['Gender'] = df['Gender'].replace(\" \", \"Female\")"
   ]
  },
  {
   "cell_type": "code",
   "execution_count": 838,
   "id": "35708d3f-bf48-4396-b43c-1df332e3a23f",
   "metadata": {},
   "outputs": [],
   "source": [
    "# Mapping dictionary for Relationship to Gender\n",
    "Relationship_to_gender = {\"Son\":\"Male\",\n",
    "                          \"Husband\":\"Male\",\n",
    "                          \"Daughter\":\"Female\",\n",
    "                          \"Wife\":\"Female\",\n",
    "                          \"Grandson\":\"Male\",\n",
    "                          \"Granddaughter\":\"Female\",\n",
    "                          \"Adopted Daughter\":\"Female\",\n",
    "                          \"Step-Son\":\"Male\",\n",
    "                          \"Step-Daughter\":\"Female\",\n",
    "                          \"Adopted Son\":\"Male\",\n",
    "                          \"Daughter-in-law\":\"Female\",\n",
    "                          \"Adopted Grandson\":\"Male\",\n",
    "                          \"Nephew\":\"Male\",\n",
    "                          \"Niece\":\"Female\"}\n",
    "\n",
    "#Replacing NaN value in gender accordingly with relationship to head of house\n",
    "df['Gender'] = df['Gender'].fillna(df['Relationship to Head of House'].map(Relationship_to_gender))"
   ]
  },
  {
   "cell_type": "code",
   "execution_count": 839,
   "id": "c26ec1a8-a9f8-4cef-b54e-2d45204a05aa",
   "metadata": {},
   "outputs": [
    {
     "name": "stdout",
     "output_type": "stream",
     "text": [
      "NaN Values in Gender:  20\n"
     ]
    }
   ],
   "source": [
    "print(\"NaN Values in Gender: \",df[\"Gender\"].isna().sum())"
   ]
  },
  {
   "cell_type": "code",
   "execution_count": 840,
   "id": "cd22fd5d-1c98-4cdd-9e33-6044d1f84a57",
   "metadata": {},
   "outputs": [
    {
     "data": {
      "text/html": [
       "<div>\n",
       "<style scoped>\n",
       "    .dataframe tbody tr th:only-of-type {\n",
       "        vertical-align: middle;\n",
       "    }\n",
       "\n",
       "    .dataframe tbody tr th {\n",
       "        vertical-align: top;\n",
       "    }\n",
       "\n",
       "    .dataframe thead th {\n",
       "        text-align: right;\n",
       "    }\n",
       "</style>\n",
       "<table border=\"1\" class=\"dataframe\">\n",
       "  <thead>\n",
       "    <tr style=\"text-align: right;\">\n",
       "      <th></th>\n",
       "      <th>Unnamed: 0</th>\n",
       "      <th>House Number</th>\n",
       "      <th>Street</th>\n",
       "      <th>First Name</th>\n",
       "      <th>Surname</th>\n",
       "      <th>Age</th>\n",
       "      <th>Relationship to Head of House</th>\n",
       "      <th>Marital Status</th>\n",
       "      <th>Gender</th>\n",
       "      <th>Occupation</th>\n",
       "      <th>Infirmity</th>\n",
       "      <th>Religion</th>\n",
       "    </tr>\n",
       "  </thead>\n",
       "  <tbody>\n",
       "    <tr>\n",
       "      <th>148</th>\n",
       "      <td>148</td>\n",
       "      <td>24.0</td>\n",
       "      <td>Albert Avenue</td>\n",
       "      <td>Alexander</td>\n",
       "      <td>Ball</td>\n",
       "      <td>81.0</td>\n",
       "      <td>Head</td>\n",
       "      <td>Divorced</td>\n",
       "      <td>NaN</td>\n",
       "      <td>Retired Copy</td>\n",
       "      <td>NaN</td>\n",
       "      <td>Christian</td>\n",
       "    </tr>\n",
       "    <tr>\n",
       "      <th>1207</th>\n",
       "      <td>1207</td>\n",
       "      <td>18.0</td>\n",
       "      <td>Music Drive</td>\n",
       "      <td>Bryan</td>\n",
       "      <td>Nicholson</td>\n",
       "      <td>74.0</td>\n",
       "      <td>Head</td>\n",
       "      <td>Widowed</td>\n",
       "      <td>NaN</td>\n",
       "      <td>Retired Chief Technology Officer</td>\n",
       "      <td>NaN</td>\n",
       "      <td>Christian</td>\n",
       "    </tr>\n",
       "    <tr>\n",
       "      <th>1507</th>\n",
       "      <td>1507</td>\n",
       "      <td>27.0</td>\n",
       "      <td>St.Johnbelt Avenue</td>\n",
       "      <td>Dylan</td>\n",
       "      <td>Howells</td>\n",
       "      <td>18.0</td>\n",
       "      <td>Head</td>\n",
       "      <td>Widowed</td>\n",
       "      <td>NaN</td>\n",
       "      <td>Student</td>\n",
       "      <td>NaN</td>\n",
       "      <td>NaN</td>\n",
       "    </tr>\n",
       "    <tr>\n",
       "      <th>2356</th>\n",
       "      <td>2356</td>\n",
       "      <td>11.0</td>\n",
       "      <td>Thomas Extensions</td>\n",
       "      <td>Annette</td>\n",
       "      <td>Rogers</td>\n",
       "      <td>31.0</td>\n",
       "      <td>Head</td>\n",
       "      <td>Single</td>\n",
       "      <td>NaN</td>\n",
       "      <td>Unemployed</td>\n",
       "      <td>NaN</td>\n",
       "      <td>Catholic</td>\n",
       "    </tr>\n",
       "    <tr>\n",
       "      <th>2387</th>\n",
       "      <td>2387</td>\n",
       "      <td>16.0</td>\n",
       "      <td>Thomas Extensions</td>\n",
       "      <td>Laura</td>\n",
       "      <td>Mitchell</td>\n",
       "      <td>24.0</td>\n",
       "      <td>Head</td>\n",
       "      <td>Single</td>\n",
       "      <td>NaN</td>\n",
       "      <td>Teacher, adult education</td>\n",
       "      <td>NaN</td>\n",
       "      <td>Muslim</td>\n",
       "    </tr>\n",
       "    <tr>\n",
       "      <th>2651</th>\n",
       "      <td>2651</td>\n",
       "      <td>8.0</td>\n",
       "      <td>Eastertooth Road</td>\n",
       "      <td>Joan</td>\n",
       "      <td>Bell</td>\n",
       "      <td>85.0</td>\n",
       "      <td>Head</td>\n",
       "      <td>Divorced</td>\n",
       "      <td>NaN</td>\n",
       "      <td>Retired Conference centre manager</td>\n",
       "      <td>NaN</td>\n",
       "      <td>Catholic</td>\n",
       "    </tr>\n",
       "    <tr>\n",
       "      <th>2857</th>\n",
       "      <td>2857</td>\n",
       "      <td>152.0</td>\n",
       "      <td>Eastertooth Road</td>\n",
       "      <td>Paige</td>\n",
       "      <td>Jones</td>\n",
       "      <td>77.0</td>\n",
       "      <td>Head</td>\n",
       "      <td>Widowed</td>\n",
       "      <td>NaN</td>\n",
       "      <td>Retired Wellsite geologist</td>\n",
       "      <td>NaN</td>\n",
       "      <td>NaN</td>\n",
       "    </tr>\n",
       "    <tr>\n",
       "      <th>3107</th>\n",
       "      <td>3107</td>\n",
       "      <td>8.0</td>\n",
       "      <td>Sagittarius Road</td>\n",
       "      <td>John</td>\n",
       "      <td>Harris</td>\n",
       "      <td>40.0</td>\n",
       "      <td>Head</td>\n",
       "      <td>Single</td>\n",
       "      <td>NaN</td>\n",
       "      <td>Community pharmacist</td>\n",
       "      <td>NaN</td>\n",
       "      <td>Catholic</td>\n",
       "    </tr>\n",
       "    <tr>\n",
       "      <th>3263</th>\n",
       "      <td>3263</td>\n",
       "      <td>4.0</td>\n",
       "      <td>Brady Port</td>\n",
       "      <td>Denise</td>\n",
       "      <td>Carpenter</td>\n",
       "      <td>20.0</td>\n",
       "      <td>Head</td>\n",
       "      <td>Single</td>\n",
       "      <td>NaN</td>\n",
       "      <td>University Student</td>\n",
       "      <td>NaN</td>\n",
       "      <td>NaN</td>\n",
       "    </tr>\n",
       "    <tr>\n",
       "      <th>3456</th>\n",
       "      <td>3456</td>\n",
       "      <td>7.0</td>\n",
       "      <td>Dockers Drive</td>\n",
       "      <td>Gareth</td>\n",
       "      <td>Read</td>\n",
       "      <td>56.0</td>\n",
       "      <td>Head</td>\n",
       "      <td>Single</td>\n",
       "      <td>NaN</td>\n",
       "      <td>Warehouse manager</td>\n",
       "      <td>NaN</td>\n",
       "      <td>NaN</td>\n",
       "    </tr>\n",
       "    <tr>\n",
       "      <th>3923</th>\n",
       "      <td>3923</td>\n",
       "      <td>37.0</td>\n",
       "      <td>Aries Drive</td>\n",
       "      <td>Anthony</td>\n",
       "      <td>Fraser</td>\n",
       "      <td>45.0</td>\n",
       "      <td>Visitor</td>\n",
       "      <td>Widowed</td>\n",
       "      <td>NaN</td>\n",
       "      <td>Educational psychologist</td>\n",
       "      <td>NaN</td>\n",
       "      <td>Catholic</td>\n",
       "    </tr>\n",
       "    <tr>\n",
       "      <th>4155</th>\n",
       "      <td>4155</td>\n",
       "      <td>10.0</td>\n",
       "      <td>Dragons Highway</td>\n",
       "      <td>Susan</td>\n",
       "      <td>Robinson</td>\n",
       "      <td>78.0</td>\n",
       "      <td>Head</td>\n",
       "      <td>Divorced</td>\n",
       "      <td>NaN</td>\n",
       "      <td>Unemployed</td>\n",
       "      <td>NaN</td>\n",
       "      <td>Methodist</td>\n",
       "    </tr>\n",
       "    <tr>\n",
       "      <th>4271</th>\n",
       "      <td>4271</td>\n",
       "      <td>28.0</td>\n",
       "      <td>Dragons Highway</td>\n",
       "      <td>Janet</td>\n",
       "      <td>Dawson</td>\n",
       "      <td>41.0</td>\n",
       "      <td>Head</td>\n",
       "      <td>Single</td>\n",
       "      <td>NaN</td>\n",
       "      <td>Architectural technologist</td>\n",
       "      <td>NaN</td>\n",
       "      <td>Christian</td>\n",
       "    </tr>\n",
       "    <tr>\n",
       "      <th>4752</th>\n",
       "      <td>4752</td>\n",
       "      <td>82.0</td>\n",
       "      <td>Trawler Knoll</td>\n",
       "      <td>Bethany</td>\n",
       "      <td>Hughes</td>\n",
       "      <td>88.0</td>\n",
       "      <td>Head</td>\n",
       "      <td>Widowed</td>\n",
       "      <td>NaN</td>\n",
       "      <td>Retired Heritage manager</td>\n",
       "      <td>NaN</td>\n",
       "      <td>Christian</td>\n",
       "    </tr>\n",
       "    <tr>\n",
       "      <th>6306</th>\n",
       "      <td>6306</td>\n",
       "      <td>13.0</td>\n",
       "      <td>Williams Rue</td>\n",
       "      <td>Bethany</td>\n",
       "      <td>Bowen</td>\n",
       "      <td>56.0</td>\n",
       "      <td>Head</td>\n",
       "      <td>Single</td>\n",
       "      <td>NaN</td>\n",
       "      <td>Astronomer</td>\n",
       "      <td>NaN</td>\n",
       "      <td>Christian</td>\n",
       "    </tr>\n",
       "    <tr>\n",
       "      <th>6877</th>\n",
       "      <td>6877</td>\n",
       "      <td>17.0</td>\n",
       "      <td>Foster Avenue</td>\n",
       "      <td>Chelsea</td>\n",
       "      <td>Murray</td>\n",
       "      <td>30.0</td>\n",
       "      <td>Head</td>\n",
       "      <td>Married</td>\n",
       "      <td>NaN</td>\n",
       "      <td>Scientific laboratory technician</td>\n",
       "      <td>NaN</td>\n",
       "      <td>NaN</td>\n",
       "    </tr>\n",
       "    <tr>\n",
       "      <th>7076</th>\n",
       "      <td>7076</td>\n",
       "      <td>6.0</td>\n",
       "      <td>Scepterbranch Avenue</td>\n",
       "      <td>Lucy</td>\n",
       "      <td>Wallis</td>\n",
       "      <td>29.0</td>\n",
       "      <td>Head</td>\n",
       "      <td>Single</td>\n",
       "      <td>NaN</td>\n",
       "      <td>Musician</td>\n",
       "      <td>NaN</td>\n",
       "      <td>NaN</td>\n",
       "    </tr>\n",
       "    <tr>\n",
       "      <th>7567</th>\n",
       "      <td>7567</td>\n",
       "      <td>58.0</td>\n",
       "      <td>Wilkinson Views</td>\n",
       "      <td>Shane</td>\n",
       "      <td>Ellis</td>\n",
       "      <td>25.0</td>\n",
       "      <td>Head</td>\n",
       "      <td>Single</td>\n",
       "      <td>NaN</td>\n",
       "      <td>Psychologist, occupational</td>\n",
       "      <td>NaN</td>\n",
       "      <td>NaN</td>\n",
       "    </tr>\n",
       "    <tr>\n",
       "      <th>7874</th>\n",
       "      <td>7874</td>\n",
       "      <td>31.0</td>\n",
       "      <td>Dublin Avenue</td>\n",
       "      <td>Peter</td>\n",
       "      <td>Byrne</td>\n",
       "      <td>57.0</td>\n",
       "      <td>Partner</td>\n",
       "      <td>Single</td>\n",
       "      <td>NaN</td>\n",
       "      <td>Financial manager</td>\n",
       "      <td>NaN</td>\n",
       "      <td>NaN</td>\n",
       "    </tr>\n",
       "    <tr>\n",
       "      <th>7899</th>\n",
       "      <td>7899</td>\n",
       "      <td>40.0</td>\n",
       "      <td>Dublin Avenue</td>\n",
       "      <td>Susan</td>\n",
       "      <td>Ward</td>\n",
       "      <td>59.0</td>\n",
       "      <td>Head</td>\n",
       "      <td>Married</td>\n",
       "      <td>NaN</td>\n",
       "      <td>Mechanical engineer</td>\n",
       "      <td>NaN</td>\n",
       "      <td>Christian</td>\n",
       "    </tr>\n",
       "  </tbody>\n",
       "</table>\n",
       "</div>"
      ],
      "text/plain": [
       "      Unnamed: 0  House Number                Street First Name    Surname  \\\n",
       "148          148          24.0         Albert Avenue  Alexander       Ball   \n",
       "1207        1207          18.0           Music Drive      Bryan  Nicholson   \n",
       "1507        1507          27.0    St.Johnbelt Avenue      Dylan    Howells   \n",
       "2356        2356          11.0     Thomas Extensions    Annette     Rogers   \n",
       "2387        2387          16.0     Thomas Extensions      Laura   Mitchell   \n",
       "2651        2651           8.0      Eastertooth Road       Joan       Bell   \n",
       "2857        2857         152.0      Eastertooth Road      Paige      Jones   \n",
       "3107        3107           8.0      Sagittarius Road       John     Harris   \n",
       "3263        3263           4.0            Brady Port     Denise  Carpenter   \n",
       "3456        3456           7.0         Dockers Drive     Gareth       Read   \n",
       "3923        3923          37.0           Aries Drive    Anthony     Fraser   \n",
       "4155        4155          10.0       Dragons Highway      Susan   Robinson   \n",
       "4271        4271          28.0       Dragons Highway      Janet     Dawson   \n",
       "4752        4752          82.0         Trawler Knoll    Bethany     Hughes   \n",
       "6306        6306          13.0          Williams Rue    Bethany      Bowen   \n",
       "6877        6877          17.0         Foster Avenue    Chelsea     Murray   \n",
       "7076        7076           6.0  Scepterbranch Avenue       Lucy     Wallis   \n",
       "7567        7567          58.0       Wilkinson Views      Shane      Ellis   \n",
       "7874        7874          31.0         Dublin Avenue      Peter      Byrne   \n",
       "7899        7899          40.0         Dublin Avenue      Susan       Ward   \n",
       "\n",
       "       Age Relationship to Head of House Marital Status Gender  \\\n",
       "148   81.0                          Head       Divorced    NaN   \n",
       "1207  74.0                          Head        Widowed    NaN   \n",
       "1507  18.0                          Head        Widowed    NaN   \n",
       "2356  31.0                          Head         Single    NaN   \n",
       "2387  24.0                          Head         Single    NaN   \n",
       "2651  85.0                          Head       Divorced    NaN   \n",
       "2857  77.0                          Head        Widowed    NaN   \n",
       "3107  40.0                          Head         Single    NaN   \n",
       "3263  20.0                          Head         Single    NaN   \n",
       "3456  56.0                          Head         Single    NaN   \n",
       "3923  45.0                       Visitor        Widowed    NaN   \n",
       "4155  78.0                          Head       Divorced    NaN   \n",
       "4271  41.0                          Head         Single    NaN   \n",
       "4752  88.0                          Head        Widowed    NaN   \n",
       "6306  56.0                          Head         Single    NaN   \n",
       "6877  30.0                          Head        Married    NaN   \n",
       "7076  29.0                          Head         Single    NaN   \n",
       "7567  25.0                          Head         Single    NaN   \n",
       "7874  57.0                       Partner         Single    NaN   \n",
       "7899  59.0                          Head        Married    NaN   \n",
       "\n",
       "                             Occupation Infirmity   Religion  \n",
       "148                        Retired Copy       NaN  Christian  \n",
       "1207   Retired Chief Technology Officer       NaN  Christian  \n",
       "1507                            Student       NaN        NaN  \n",
       "2356                         Unemployed       NaN   Catholic  \n",
       "2387           Teacher, adult education       NaN     Muslim  \n",
       "2651  Retired Conference centre manager       NaN   Catholic  \n",
       "2857         Retired Wellsite geologist       NaN        NaN  \n",
       "3107               Community pharmacist       NaN   Catholic  \n",
       "3263                 University Student       NaN        NaN  \n",
       "3456                  Warehouse manager       NaN        NaN  \n",
       "3923           Educational psychologist       NaN   Catholic  \n",
       "4155                         Unemployed       NaN  Methodist  \n",
       "4271         Architectural technologist       NaN  Christian  \n",
       "4752           Retired Heritage manager       NaN  Christian  \n",
       "6306                         Astronomer       NaN  Christian  \n",
       "6877   Scientific laboratory technician       NaN        NaN  \n",
       "7076                           Musician       NaN        NaN  \n",
       "7567         Psychologist, occupational       NaN        NaN  \n",
       "7874                  Financial manager       NaN        NaN  \n",
       "7899                Mechanical engineer       NaN  Christian  "
      ]
     },
     "execution_count": 840,
     "metadata": {},
     "output_type": "execute_result"
    }
   ],
   "source": [
    "df[df[\"Gender\"].isna()]"
   ]
  },
  {
   "cell_type": "code",
   "execution_count": 841,
   "id": "f84df901-b5df-4579-9cce-a239317bde88",
   "metadata": {},
   "outputs": [],
   "source": [
    "df[\"Gender\"] = df[\"Gender\"].fillna(\"Undeclared\")"
   ]
  },
  {
   "cell_type": "code",
   "execution_count": 842,
   "id": "69106861-ed3a-45b2-9ee2-cf4bbc582726",
   "metadata": {},
   "outputs": [
    {
     "name": "stdout",
     "output_type": "stream",
     "text": [
      "NaN Values in Gender:  0\n"
     ]
    }
   ],
   "source": [
    "print(\"NaN Values in Gender: \",df[\"Gender\"].isna().sum())"
   ]
  },
  {
   "cell_type": "markdown",
   "id": "20628dd2-1800-4420-87b5-8a22ffd77ba9",
   "metadata": {},
   "source": [
    "### Occupation"
   ]
  },
  {
   "cell_type": "code",
   "execution_count": 843,
   "id": "816d11ef-2110-46c1-a5e5-da2e4433435e",
   "metadata": {},
   "outputs": [
    {
     "name": "stdout",
     "output_type": "stream",
     "text": [
      "Minimum Age for Child in Data: 0.0\n",
      "Maximum Age for Child in Data: 4.0\n"
     ]
    }
   ],
   "source": [
    "print(\"Minimum Age for Child in Data:\",df.loc[df[\"Occupation\"] == \"Child\",\"Age\"].min())\n",
    "print(\"Maximum Age for Child in Data:\",df.loc[df[\"Occupation\"] == \"Child\",\"Age\"].max())"
   ]
  },
  {
   "cell_type": "code",
   "execution_count": 844,
   "id": "f3cbb11c-7d9f-4f02-88b1-acbc075acba5",
   "metadata": {},
   "outputs": [
    {
     "name": "stdout",
     "output_type": "stream",
     "text": [
      "Minimum Age for Student in Data: 5.0\n",
      "Maximum Age for Student in Data: 18.0\n"
     ]
    }
   ],
   "source": [
    "print(\"Minimum Age for Student in Data:\",df.loc[df[\"Occupation\"] == \"Student\",\"Age\"].min())\n",
    "print(\"Maximum Age for Student in Data:\",df.loc[df[\"Occupation\"] == \"Student\",\"Age\"].max())"
   ]
  },
  {
   "cell_type": "code",
   "execution_count": 845,
   "id": "50c70265-d696-4414-9130-b824ca10a050",
   "metadata": {},
   "outputs": [],
   "source": [
    "df.loc[(df[\"Age\"]<18) & (df[\"Relationship to Head of House\"].isna() & (df[\"Gender\"] == \"Female\")),\"Relationship to Head of House\"] = \"Daughter\""
   ]
  },
  {
   "cell_type": "code",
   "execution_count": 846,
   "id": "3581ec70-3ec6-433e-9d63-7f5f0facef9b",
   "metadata": {},
   "outputs": [],
   "source": [
    "df.loc[(df[\"Age\"] >= 0) & (df[\"Age\"] <= 4),\"Occupation\"] = \"Child\"\n",
    "df.loc[(df[\"Age\"] >= 5) & (df[\"Age\"] <= 18),\"Occupation\"] = \"Student\"\n",
    "df.loc[(df[\"Age\"] >= 68) & (df[\"Age\"] <= 106),\"Occupation\"] = \"Retired\""
   ]
  },
  {
   "cell_type": "code",
   "execution_count": 847,
   "id": "b6783616-4c44-479b-89f7-2e20424e8e8d",
   "metadata": {},
   "outputs": [
    {
     "name": "stdout",
     "output_type": "stream",
     "text": [
      "NaN Values in Occupation:  28\n"
     ]
    }
   ],
   "source": [
    "print(\"NaN Values in Occupation: \",df[\"Occupation\"].isna().sum())"
   ]
  },
  {
   "cell_type": "code",
   "execution_count": 848,
   "id": "cc7211a4-bf33-4f69-9818-31edc95b59d3",
   "metadata": {},
   "outputs": [
    {
     "name": "stdout",
     "output_type": "stream",
     "text": [
      "['Programmer, applications' 'Warehouse manager' 'Insurance risk surveyor'\n",
      " ... 'Surveyor, insurance' 'Engineer, maintenance' 'Arts administrator']\n"
     ]
    }
   ],
   "source": [
    "possible_occupations = df[\"Occupation\"].unique()\n",
    "random_occupations = np.random.choice(possible_occupations, size=len(df))\n",
    "print(random_occupations)\n",
    "df['Occupation'] = df['Occupation'].fillna(pd.Series(random_occupations))"
   ]
  },
  {
   "cell_type": "code",
   "execution_count": 849,
   "id": "7dcfd00e-15ec-4b97-8701-07217fd917d6",
   "metadata": {},
   "outputs": [
    {
     "name": "stdout",
     "output_type": "stream",
     "text": [
      "NaN Values in Occupation:  0\n"
     ]
    }
   ],
   "source": [
    "print(\"NaN Values in Occupation: \",df[\"Occupation\"].isna().sum())"
   ]
  },
  {
   "cell_type": "markdown",
   "id": "e4e46cac-2364-4b63-a862-bd0689ffc704",
   "metadata": {},
   "source": [
    "### Infirmity "
   ]
  },
  {
   "cell_type": "code",
   "execution_count": 850,
   "id": "e9cc434b-dedb-47f6-b033-c5c195a25bb3",
   "metadata": {},
   "outputs": [
    {
     "data": {
      "text/plain": [
       "array([nan, 'Unknown Infection', 'Physical Disability', 'Deaf',\n",
       "       'Disabled', 'Mental Disability', 'Blind', ' '], dtype=object)"
      ]
     },
     "execution_count": 850,
     "metadata": {},
     "output_type": "execute_result"
    }
   ],
   "source": [
    "df[\"Infirmity\"].unique()"
   ]
  },
  {
   "cell_type": "code",
   "execution_count": 851,
   "id": "b4cf2984-6a1e-4634-985c-182307f2765f",
   "metadata": {},
   "outputs": [],
   "source": [
    "#Replacing NaN values with None\n",
    "df['Infirmity'] = df['Infirmity'].fillna(\"None\")\n",
    "#Replacing blank entries with None\n",
    "df['Infirmity'] = df['Infirmity'].replace(' ', \"None\")"
   ]
  },
  {
   "cell_type": "code",
   "execution_count": 852,
   "id": "09434077-2f27-4a2b-8977-483a81fa534f",
   "metadata": {},
   "outputs": [
    {
     "name": "stdout",
     "output_type": "stream",
     "text": [
      "NaN Values in Infirmity:  0\n"
     ]
    }
   ],
   "source": [
    "print(\"NaN Values in Infirmity: \",df[\"Infirmity\"].isnull().sum())"
   ]
  },
  {
   "cell_type": "markdown",
   "id": "9f0d9cb6-1f42-49fb-ba69-0f96f3cb1b4f",
   "metadata": {},
   "source": [
    "### Religion"
   ]
  },
  {
   "cell_type": "code",
   "execution_count": 853,
   "id": "e43e1ac8-44b1-4e7a-bfac-99e12a64aa0e",
   "metadata": {},
   "outputs": [
    {
     "data": {
      "text/plain": [
       "array(['Christian', nan, 'Sikh', 'Muslim', 'Catholic', 'Methodist',\n",
       "       'Jewish', 'Housekeeper', 'Baptist', 'Hindu', 'Sith', 'Private',\n",
       "       'Nope', 'Agnostic'], dtype=object)"
      ]
     },
     "execution_count": 853,
     "metadata": {},
     "output_type": "execute_result"
    }
   ],
   "source": [
    "df[\"Religion\"].unique()"
   ]
  },
  {
   "cell_type": "code",
   "execution_count": 854,
   "id": "caba91f0-caf2-43a2-9f87-192c73074f27",
   "metadata": {},
   "outputs": [],
   "source": [
    "df[\"Religion\"] = df[\"Religion\"].replace(\"Nope\",\"Atheist\")\n",
    "mode = df[\"Religion\"].mode()[0]\n",
    "df[\"Religion\"] = df[\"Religion\"].replace(\"Housekeeper\",mode)\n",
    "df[\"Religion\"] = df[\"Religion\"].replace(\"Private\",mode)"
   ]
  },
  {
   "cell_type": "code",
   "execution_count": 855,
   "id": "5f6de9ad-0649-4f54-83c6-8b7c2c74d909",
   "metadata": {},
   "outputs": [
    {
     "name": "stdout",
     "output_type": "stream",
     "text": [
      "NaN Values in Religion:  4492\n"
     ]
    }
   ],
   "source": [
    "print(\"NaN Values in Religion: \",df[\"Religion\"].isnull().sum())"
   ]
  },
  {
   "cell_type": "code",
   "execution_count": 856,
   "id": "2577314d-8937-4f92-b7e5-070e151752ca",
   "metadata": {},
   "outputs": [
    {
     "data": {
      "text/html": [
       "<div>\n",
       "<style scoped>\n",
       "    .dataframe tbody tr th:only-of-type {\n",
       "        vertical-align: middle;\n",
       "    }\n",
       "\n",
       "    .dataframe tbody tr th {\n",
       "        vertical-align: top;\n",
       "    }\n",
       "\n",
       "    .dataframe thead th {\n",
       "        text-align: right;\n",
       "    }\n",
       "</style>\n",
       "<table border=\"1\" class=\"dataframe\">\n",
       "  <thead>\n",
       "    <tr style=\"text-align: right;\">\n",
       "      <th></th>\n",
       "      <th>Unnamed: 0</th>\n",
       "      <th>House Number</th>\n",
       "      <th>Street</th>\n",
       "      <th>First Name</th>\n",
       "      <th>Surname</th>\n",
       "      <th>Age</th>\n",
       "      <th>Relationship to Head of House</th>\n",
       "      <th>Marital Status</th>\n",
       "      <th>Gender</th>\n",
       "      <th>Occupation</th>\n",
       "      <th>Infirmity</th>\n",
       "      <th>Religion</th>\n",
       "    </tr>\n",
       "  </thead>\n",
       "  <tbody>\n",
       "    <tr>\n",
       "      <th>0</th>\n",
       "      <td>0</td>\n",
       "      <td>1.0</td>\n",
       "      <td>Johnson Glens</td>\n",
       "      <td>Kyle</td>\n",
       "      <td>Smith</td>\n",
       "      <td>20.0</td>\n",
       "      <td>Head</td>\n",
       "      <td>Single</td>\n",
       "      <td>Male</td>\n",
       "      <td>University Student</td>\n",
       "      <td>None</td>\n",
       "      <td>Christian</td>\n",
       "    </tr>\n",
       "    <tr>\n",
       "      <th>5</th>\n",
       "      <td>5</td>\n",
       "      <td>4.0</td>\n",
       "      <td>Johnson Glens</td>\n",
       "      <td>Pauline</td>\n",
       "      <td>Marsden</td>\n",
       "      <td>36.0</td>\n",
       "      <td>Head</td>\n",
       "      <td>Single</td>\n",
       "      <td>Female</td>\n",
       "      <td>Risk analyst</td>\n",
       "      <td>None</td>\n",
       "      <td>Sikh</td>\n",
       "    </tr>\n",
       "    <tr>\n",
       "      <th>6</th>\n",
       "      <td>6</td>\n",
       "      <td>5.0</td>\n",
       "      <td>Johnson Glens</td>\n",
       "      <td>Iain</td>\n",
       "      <td>Hutchinson</td>\n",
       "      <td>84.0</td>\n",
       "      <td>Head</td>\n",
       "      <td>Widowed</td>\n",
       "      <td>Male</td>\n",
       "      <td>Retired</td>\n",
       "      <td>None</td>\n",
       "      <td>Muslim</td>\n",
       "    </tr>\n",
       "    <tr>\n",
       "      <th>7</th>\n",
       "      <td>7</td>\n",
       "      <td>6.0</td>\n",
       "      <td>Johnson Glens</td>\n",
       "      <td>Jenna</td>\n",
       "      <td>Cox</td>\n",
       "      <td>65.0</td>\n",
       "      <td>Head</td>\n",
       "      <td>Widowed</td>\n",
       "      <td>Female</td>\n",
       "      <td>Meteorologist</td>\n",
       "      <td>None</td>\n",
       "      <td>Christian</td>\n",
       "    </tr>\n",
       "    <tr>\n",
       "      <th>8</th>\n",
       "      <td>8</td>\n",
       "      <td>7.0</td>\n",
       "      <td>Johnson Glens</td>\n",
       "      <td>Carly</td>\n",
       "      <td>Barrett</td>\n",
       "      <td>63.0</td>\n",
       "      <td>Head</td>\n",
       "      <td>Divorced</td>\n",
       "      <td>Female</td>\n",
       "      <td>Theme park manager</td>\n",
       "      <td>None</td>\n",
       "      <td>Christian</td>\n",
       "    </tr>\n",
       "    <tr>\n",
       "      <th>...</th>\n",
       "      <td>...</td>\n",
       "      <td>...</td>\n",
       "      <td>...</td>\n",
       "      <td>...</td>\n",
       "      <td>...</td>\n",
       "      <td>...</td>\n",
       "      <td>...</td>\n",
       "      <td>...</td>\n",
       "      <td>...</td>\n",
       "      <td>...</td>\n",
       "      <td>...</td>\n",
       "      <td>...</td>\n",
       "    </tr>\n",
       "    <tr>\n",
       "      <th>7989</th>\n",
       "      <td>7989</td>\n",
       "      <td>1.0</td>\n",
       "      <td>St.Matthew Delve</td>\n",
       "      <td>Louis</td>\n",
       "      <td>Carpenter</td>\n",
       "      <td>44.0</td>\n",
       "      <td>Son</td>\n",
       "      <td>Single</td>\n",
       "      <td>Male</td>\n",
       "      <td>Fine artist</td>\n",
       "      <td>None</td>\n",
       "      <td>Christian</td>\n",
       "    </tr>\n",
       "    <tr>\n",
       "      <th>7993</th>\n",
       "      <td>7993</td>\n",
       "      <td>1.0</td>\n",
       "      <td>St.Matthew Delve</td>\n",
       "      <td>Joanne</td>\n",
       "      <td>Carpenter</td>\n",
       "      <td>21.0</td>\n",
       "      <td>Daughter</td>\n",
       "      <td>Single</td>\n",
       "      <td>Female</td>\n",
       "      <td>University Student</td>\n",
       "      <td>None</td>\n",
       "      <td>Christian</td>\n",
       "    </tr>\n",
       "    <tr>\n",
       "      <th>7996</th>\n",
       "      <td>7996</td>\n",
       "      <td>1.0</td>\n",
       "      <td>Sydney Hall</td>\n",
       "      <td>Amelia</td>\n",
       "      <td>Taylor</td>\n",
       "      <td>35.0</td>\n",
       "      <td>Head</td>\n",
       "      <td>Married</td>\n",
       "      <td>Female</td>\n",
       "      <td>Warehouse manager</td>\n",
       "      <td>None</td>\n",
       "      <td>Methodist</td>\n",
       "    </tr>\n",
       "    <tr>\n",
       "      <th>7997</th>\n",
       "      <td>7997</td>\n",
       "      <td>1.0</td>\n",
       "      <td>Sydney Hall</td>\n",
       "      <td>Marc</td>\n",
       "      <td>Taylor</td>\n",
       "      <td>34.0</td>\n",
       "      <td>Husband</td>\n",
       "      <td>Married</td>\n",
       "      <td>Male</td>\n",
       "      <td>Claims inspector/assessor</td>\n",
       "      <td>None</td>\n",
       "      <td>Methodist</td>\n",
       "    </tr>\n",
       "    <tr>\n",
       "      <th>8001</th>\n",
       "      <td>8001</td>\n",
       "      <td>1.0</td>\n",
       "      <td>Sydney Hall</td>\n",
       "      <td>Jenna</td>\n",
       "      <td>Barker</td>\n",
       "      <td>33.0</td>\n",
       "      <td>Lodger</td>\n",
       "      <td>Single</td>\n",
       "      <td>Female</td>\n",
       "      <td>Nurse, learning disability</td>\n",
       "      <td>None</td>\n",
       "      <td>Catholic</td>\n",
       "    </tr>\n",
       "  </tbody>\n",
       "</table>\n",
       "<p>3510 rows × 12 columns</p>\n",
       "</div>"
      ],
      "text/plain": [
       "      Unnamed: 0  House Number            Street First Name     Surname   Age  \\\n",
       "0              0           1.0     Johnson Glens       Kyle       Smith  20.0   \n",
       "5              5           4.0     Johnson Glens    Pauline     Marsden  36.0   \n",
       "6              6           5.0     Johnson Glens       Iain  Hutchinson  84.0   \n",
       "7              7           6.0     Johnson Glens      Jenna         Cox  65.0   \n",
       "8              8           7.0     Johnson Glens      Carly     Barrett  63.0   \n",
       "...          ...           ...               ...        ...         ...   ...   \n",
       "7989        7989           1.0  St.Matthew Delve      Louis   Carpenter  44.0   \n",
       "7993        7993           1.0  St.Matthew Delve     Joanne   Carpenter  21.0   \n",
       "7996        7996           1.0       Sydney Hall     Amelia      Taylor  35.0   \n",
       "7997        7997           1.0       Sydney Hall       Marc      Taylor  34.0   \n",
       "8001        8001           1.0       Sydney Hall      Jenna      Barker  33.0   \n",
       "\n",
       "     Relationship to Head of House Marital Status  Gender  \\\n",
       "0                             Head         Single    Male   \n",
       "5                             Head         Single  Female   \n",
       "6                             Head        Widowed    Male   \n",
       "7                             Head        Widowed  Female   \n",
       "8                             Head       Divorced  Female   \n",
       "...                            ...            ...     ...   \n",
       "7989                           Son         Single    Male   \n",
       "7993                      Daughter         Single  Female   \n",
       "7996                          Head        Married  Female   \n",
       "7997                       Husband        Married    Male   \n",
       "8001                        Lodger         Single  Female   \n",
       "\n",
       "                      Occupation Infirmity   Religion  \n",
       "0             University Student      None  Christian  \n",
       "5                   Risk analyst      None       Sikh  \n",
       "6                        Retired      None     Muslim  \n",
       "7                  Meteorologist      None  Christian  \n",
       "8             Theme park manager      None  Christian  \n",
       "...                          ...       ...        ...  \n",
       "7989                 Fine artist      None  Christian  \n",
       "7993          University Student      None  Christian  \n",
       "7996           Warehouse manager      None  Methodist  \n",
       "7997   Claims inspector/assessor      None  Methodist  \n",
       "8001  Nurse, learning disability      None   Catholic  \n",
       "\n",
       "[3510 rows x 12 columns]"
      ]
     },
     "execution_count": 856,
     "metadata": {},
     "output_type": "execute_result"
    }
   ],
   "source": [
    "df[\n",
    "            ((df['Street'] == df['Street']) &\n",
    "            (df['House Number'] == df['House Number']) &\n",
    "            (df['Surname'] == df['Surname']) &\n",
    "            ~pd.isna(df['Religion']))\n",
    "        ]"
   ]
  },
  {
   "cell_type": "code",
   "execution_count": 858,
   "id": "b31e8fc5-23ba-42d7-8d22-41bcc3715048",
   "metadata": {},
   "outputs": [
    {
     "data": {
      "text/plain": [
       "4492"
      ]
     },
     "execution_count": 858,
     "metadata": {},
     "output_type": "execute_result"
    }
   ],
   "source": [
    "df[\"Religion\"].isna().sum()"
   ]
  },
  {
   "cell_type": "code",
   "execution_count": 859,
   "id": "1767240b-360d-4988-b85f-1761a4de7d7b",
   "metadata": {},
   "outputs": [],
   "source": [
    "# Define the function to fill Religion\n",
    "def fill_Religion(row, lookup_df):\n",
    "    if pd.isna(row['Religion']):\n",
    "        # Filter rows in lookup_df with the same Street, House Number, and Surname\n",
    "        matches = lookup_df[(lookup_df['Street'] == row['Street']) & \n",
    "                            (lookup_df['House Number'] == row['House Number']) & \n",
    "                            (lookup_df['Surname'] == row['Surname']) & \n",
    "                            ~pd.isna(lookup_df['Religion'])]\n",
    "        # Check if any matches are found\n",
    "        if not matches.empty:\n",
    "            # Return the first matched Religion\n",
    "            return matches['Religion'].iloc[0]\n",
    "        else:\n",
    "            # If no match is found, use Atheist\n",
    "            return \"Atheist\"\n",
    "    \n",
    "    # If Religion is not missing, return it as is\n",
    "    return row['Religion']\n",
    "\n",
    "# Apply the function to fill missing Religions\n",
    "df['Religion'] = df.apply(lambda row: fill_Religion(row, df), axis=1)"
   ]
  },
  {
   "cell_type": "code",
   "execution_count": 860,
   "id": "d4ce0554-5fd4-45e1-98e5-95d8c4d2337a",
   "metadata": {},
   "outputs": [
    {
     "data": {
      "text/plain": [
       "0"
      ]
     },
     "execution_count": 860,
     "metadata": {},
     "output_type": "execute_result"
    }
   ],
   "source": [
    "df[\"Religion\"].isna().sum()"
   ]
  },
  {
   "cell_type": "code",
   "execution_count": null,
   "id": "ed97df7e-67c8-423d-b537-88a6133c2185",
   "metadata": {},
   "outputs": [],
   "source": []
  }
 ],
 "metadata": {
  "kernelspec": {
   "display_name": "Python 3 (ipykernel)",
   "language": "python",
   "name": "python3"
  },
  "language_info": {
   "codemirror_mode": {
    "name": "ipython",
    "version": 3
   },
   "file_extension": ".py",
   "mimetype": "text/x-python",
   "name": "python",
   "nbconvert_exporter": "python",
   "pygments_lexer": "ipython3",
   "version": "3.12.3"
  }
 },
 "nbformat": 4,
 "nbformat_minor": 5
}
